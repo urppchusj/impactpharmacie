{
 "cells": [
  {
   "cell_type": "code",
   "execution_count": null,
   "metadata": {},
   "outputs": [],
   "source": [
    "COMING SOON"
   ]
  }
 ],
 "metadata": {
  "kernelspec": {
   "display_name": "Python 3.9.7 ('impact')",
   "language": "python",
   "name": "python3"
  },
  "language_info": {
   "name": "python",
   "version": "3.9.7"
  },
  "orig_nbformat": 4,
  "vscode": {
   "interpreter": {
    "hash": "b865e41611128619125efb3de810fd1945d838f9916dd1a16e8a8b77ba5194d7"
   }
  }
 },
 "nbformat": 4,
 "nbformat_minor": 2
}
