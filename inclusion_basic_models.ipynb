{
 "cells": [
  {
   "cell_type": "code",
   "execution_count": 52,
   "metadata": {},
   "outputs": [],
   "source": [
    "import pandas as pd\n",
    "import pickle\n",
    "\n",
    "from matplotlib import pyplot as plt\n",
    "from sklearn.decomposition import TruncatedSVD, LatentDirichletAllocation\n",
    "from sklearn.ensemble import RandomForestClassifier, ExtraTreesClassifier, AdaBoostClassifier\n",
    "from sklearn.feature_extraction.text import TfidfVectorizer, CountVectorizer\n",
    "from sklearn.linear_model import LogisticRegression\n",
    "from sklearn.metrics import accuracy_score, f1_score,  make_scorer, precision_score, recall_score, PrecisionRecallDisplay\n",
    "from sklearn.model_selection import GridSearchCV, train_test_split, KFold\n",
    "from sklearn.naive_bayes import MultinomialNB\n",
    "from sklearn.neighbors import KNeighborsClassifier\n",
    "from sklearn.pipeline import Pipeline\n",
    "from sklearn.preprocessing import LabelEncoder\n",
    "from sklearn.svm import SVC\n",
    "from sklearn.utils import shuffle"
   ]
  },
  {
   "cell_type": "code",
   "execution_count": 20,
   "metadata": {},
   "outputs": [],
   "source": [
    "### YOUR PATH HERE\n",
    "filepath = '.'"
   ]
  },
  {
   "attachments": {},
   "cell_type": "markdown",
   "metadata": {},
   "source": [
    "# Import the dataset"
   ]
  },
  {
   "cell_type": "code",
   "execution_count": 66,
   "metadata": {},
   "outputs": [
    {
     "name": "stdout",
     "output_type": "stream",
     "text": [
      "Number of samples in all df: 5784, Number of samples in test df: 800, Number of samples in train_val df: 3133\n",
      "Number of included in train_val: 221.0\n",
      "Number of included in test: 54.0\n"
     ]
    }
   ],
   "source": [
    "df = pd.read_csv(filepath + '/data/second_gen/ratings.csv')[1:].fillna('')\n",
    "df['labels'] = df.apply(lambda x: x['rating_consensus'] if x['rating_consensus'] != '' else x['rating1'] if ((x['rating1'] == x['rating2']) and (x['consensus_reason'] == '') and (x['rating1'] != '')) else 'error', axis=1)\n",
    "train_val_df = df[:3133]\n",
    "test_df = df[3133:3133+800]\n",
    "print('Number of samples in all df: {}, Number of samples in test df: {}, Number of samples in train_val df: {}'.format(len(df),len(test_df), len(train_val_df)))\n",
    "print('Number of included in train_val: {}'.format(train_val_df['labels'].sum()))\n",
    "print('Number of included in test: {}'.format(test_df['labels'].sum()))"
   ]
  },
  {
   "cell_type": "code",
   "execution_count": 22,
   "metadata": {},
   "outputs": [],
   "source": [
    "df_columns_to_keep = ['text', 'labels']\n",
    "train_val_df = train_val_df[df_columns_to_keep]\n",
    "test_df = test_df[df_columns_to_keep]"
   ]
  },
  {
   "attachments": {},
   "cell_type": "markdown",
   "metadata": {},
   "source": [
    "# Helper functions"
   ]
  },
  {
   "cell_type": "code",
   "execution_count": 34,
   "metadata": {},
   "outputs": [],
   "source": [
    "def grid_search(model_name, search_name, pipe, param, metrics_dict, refit, features, labels):\n",
    "  grid = GridSearchCV(pipe,param,scoring=metrics_dict, refit=refit, cv=5, verbose=2, n_jobs=-1)\n",
    "  grid.fit(features,labels)\n",
    "  results_df = pd.DataFrame.from_dict(grid.cv_results_)\n",
    "  with open(filepath + '/results/' + model_name + '/' + search_name + '.pkl', mode='wb') as file:\n",
    "    pickle.dump(results_df, file)\n",
    "  print('Best parameters: {}'.format(grid.best_params_))\n",
    "  if refit == True:\n",
    "    metrics_list = 'mean_test_score'\n",
    "  else:\n",
    "    metrics_list = ['mean_test_' + k for k,_ in metrics_dict.items()]\n",
    "    if len(metrics_list) == 1:\n",
    "      metrics_list = metrics_list[0]\n",
    "  print(results_df[metrics_list])\n",
    "  print('Best index: {}'.format(grid.best_index_))\n",
    "  return grid, results_df"
   ]
  },
  {
   "attachments": {},
   "cell_type": "markdown",
   "metadata": {},
   "source": [
    "# Explore possible models to select for review"
   ]
  },
  {
   "attachments": {},
   "cell_type": "markdown",
   "metadata": {},
   "source": [
    "## First grid search"
   ]
  },
  {
   "cell_type": "code",
   "execution_count": 28,
   "metadata": {},
   "outputs": [
    {
     "name": "stdout",
     "output_type": "stream",
     "text": [
      "Fitting 5 folds for each of 43 candidates, totalling 215 fits\n",
      "Best parameters: {'classify': MultinomialNB(), 'feature_ext_1': CountVectorizer()}\n",
      "    mean_test_f1  mean_test_accuracy  mean_test_recall  mean_test_precision\n",
      "0       0.170370            0.933293          0.104395             0.589573\n",
      "1       0.287116            0.939992          0.186598             0.866667\n",
      "2       0.368260            0.941909          0.246332             0.767965\n",
      "3       0.379240            0.941586          0.278781             0.703615\n",
      "4       0.473412            0.939993          0.396516             0.646817\n",
      "5       0.584298            0.948293          0.522599             0.694167\n",
      "6       0.289536            0.937120          0.200243             0.627843\n",
      "7       0.253462            0.934889          0.158772             0.708929\n",
      "8       0.194166            0.932016          0.115998             0.657143\n",
      "9       0.303544            0.937120          0.198852             0.703009\n",
      "10      0.364085            0.941587          0.247815             0.774510\n",
      "11      0.311078            0.940950          0.206266             0.842286\n",
      "12      0.504616            0.940632          0.440495             0.615619\n",
      "13      0.533975            0.943824          0.468499             0.651556\n",
      "14      0.533612            0.935846          0.524634             0.551061\n",
      "15      0.400907            0.921482          0.384882             0.431235\n",
      "16      0.451997            0.921798          0.466081             0.448762\n",
      "17      0.527184            0.925633          0.600551             0.486344\n",
      "18      0.307077            0.940631          0.193362             0.844786\n",
      "19      0.313053            0.941269          0.193909             0.884675\n",
      "20      0.334282            0.942546          0.208424             0.913333\n",
      "21      0.326092            0.941908          0.204076             0.892088\n",
      "22      0.619423            0.954034          0.531291             0.749951\n",
      "23      0.637416            0.955632          0.545730             0.772130\n",
      "24      0.649760            0.956910          0.564565             0.772188\n",
      "25      0.673960            0.959142          0.604291             0.768943\n",
      "26      0.536821            0.949886          0.413840             0.769953\n",
      "27      0.524186            0.950845          0.385469             0.829619\n",
      "28      0.349728            0.942547          0.222091             0.853889\n",
      "29      0.204182            0.936164          0.117170             0.867857\n",
      "30      0.474824            0.948292          0.331542             0.839265\n",
      "31      0.319524            0.941271          0.196370             0.873333\n",
      "32      0.107430            0.933291          0.058352             0.900000\n",
      "33      0.025505            0.930418          0.013031             0.600000\n",
      "34      0.634938            0.950847          0.596070             0.688661\n",
      "35      0.575562            0.944142          0.538889             0.625666\n",
      "36      0.596225            0.946375          0.560423             0.639105\n",
      "37      0.619785            0.947973          0.607348             0.640172\n",
      "38      0.576395            0.946698          0.511926             0.666096\n",
      "39      0.517951            0.947652          0.403328             0.730525\n",
      "40      0.459953            0.943506          0.340950             0.715770\n",
      "41      0.390063            0.942229          0.263213             0.762631\n",
      "42      0.615331            0.934248          0.750856             0.527349\n",
      "Best index: 42\n"
     ]
    }
   ],
   "source": [
    "basic_pipe = Pipeline ([\n",
    "                  ('feature_ext_1', 'passthrough'),\n",
    "                  ('feature_ext_2', 'passthrough'),\n",
    "                  ('classify', 'passthrough')\n",
    "])\n",
    "\n",
    "basic_param = [\n",
    "        {\n",
    "          'feature_ext_1':[CountVectorizer()],\n",
    "          'feature_ext_2':[LatentDirichletAllocation()],\n",
    "          'feature_ext_2__n_components':[32,64,128],\n",
    "          'classify':[LogisticRegression(), SVC(), RandomForestClassifier(),\n",
    "                      ExtraTreesClassifier(), AdaBoostClassifier(),\n",
    "                      KNeighborsClassifier()\n",
    "                      ]  \n",
    "        },\n",
    "        {\n",
    "          'feature_ext_1':[TfidfVectorizer()],\n",
    "          'feature_ext_2':[TruncatedSVD()],\n",
    "          'feature_ext_2__n_components':[32,64,128,256],\n",
    "          'classify':[LogisticRegression(), SVC(), RandomForestClassifier(),\n",
    "                      ExtraTreesClassifier(), AdaBoostClassifier(),\n",
    "                      KNeighborsClassifier()\n",
    "                      ]  \n",
    "        },\n",
    "        {\n",
    "          'feature_ext_1':[CountVectorizer()],\n",
    "          'classify':[MultinomialNB()]  \n",
    "        },\n",
    "]\n",
    "\n",
    "basic_grid, basic_grid_df = grid_search('inclusion/sklearn_hp_search', 'basic', basic_pipe, basic_param, {'f1':'f1', 'accuracy':'accuracy', 'recall':'recall', 'precision':'precision'}, 'recall', train_val_df['text'], train_val_df['labels'])"
   ]
  },
  {
   "attachments": {},
   "cell_type": "markdown",
   "metadata": {},
   "source": [
    "## Second grid search"
   ]
  },
  {
   "cell_type": "code",
   "execution_count": 35,
   "metadata": {},
   "outputs": [
    {
     "name": "stdout",
     "output_type": "stream",
     "text": [
      "Fitting 5 folds for each of 9 candidates, totalling 45 fits\n",
      "Best parameters: {'classify__alpha': 0.2}\n",
      "   mean_test_f1  mean_test_accuracy  mean_test_recall  mean_test_precision\n",
      "0      0.602244            0.919886          0.859697             0.464993\n",
      "1      0.582998            0.911906          0.873333             0.439401\n",
      "2      0.589394            0.915415          0.859697             0.450893\n",
      "3      0.610072            0.928187          0.791919             0.499131\n",
      "4      0.611603            0.934248          0.737374             0.526751\n",
      "5      0.620027            0.941909          0.678485             0.574242\n",
      "6      0.503122            0.942226          0.416162             0.639582\n",
      "7      0.450911            0.940949          0.348182             0.647980\n",
      "8      0.008696            0.929142          0.004545             0.100000\n",
      "Best index: 1\n"
     ]
    }
   ],
   "source": [
    "mnb_pipe = Pipeline ([\n",
    "                  ('feature_ext_1', CountVectorizer()),\n",
    "                  ('classify', MultinomialNB())\n",
    "])\n",
    "\n",
    "mnb_param = [\n",
    "        {\n",
    "          'classify__alpha':[0.1,0.2,0.5,0.8,1,1.2,1.8,2,5]  \n",
    "        },\n",
    "]\n",
    "\n",
    "mnb_grid, mnb_grid_df = grid_search('inclusion/sklearn_hp_search', 'mnb_finetune', mnb_pipe, mnb_param, {'f1':'f1', 'accuracy':'accuracy', 'recall':'recall', 'precision':'precision'}, 'recall', train_val_df['text'], train_val_df['labels'])"
   ]
  },
  {
   "attachments": {},
   "cell_type": "markdown",
   "metadata": {},
   "source": [
    "## Evaluate tuned pipeline"
   ]
  },
  {
   "cell_type": "code",
   "execution_count": 45,
   "metadata": {},
   "outputs": [
    {
     "data": {
      "text/plain": [
       "Pipeline(steps=[('feature_ext_1', CountVectorizer()),\n",
       "                ('classify', MultinomialNB(alpha=0.2))])"
      ]
     },
     "execution_count": 45,
     "metadata": {},
     "output_type": "execute_result"
    }
   ],
   "source": [
    "final_pipe = Pipeline ([\n",
    "                  ('feature_ext_1', CountVectorizer()),\n",
    "                  ('classify', MultinomialNB(alpha=0.2))\n",
    "])\n",
    "final_pipe.fit(train_val_df['text'], train_val_df['labels'])"
   ]
  },
  {
   "cell_type": "code",
   "execution_count": 56,
   "metadata": {},
   "outputs": [
    {
     "name": "stdout",
     "output_type": "stream",
     "text": [
      "Precision: 0.406  , Recall: 0.796\n"
     ]
    }
   ],
   "source": [
    "preds = final_pipe.predict(test_df['text'])\n",
    "recall = recall_score(test_df['labels'], preds)\n",
    "precision = precision_score(test_df['labels'], preds)\n",
    "print('Precision: {:.3f}  , Recall: {:.3f}'.format(precision,recall))"
   ]
  },
  {
   "attachments": {},
   "cell_type": "markdown",
   "metadata": {},
   "source": [
    "## Determine threshold to maximize recall"
   ]
  },
  {
   "cell_type": "code",
   "execution_count": 51,
   "metadata": {},
   "outputs": [
    {
     "data": {
      "text/plain": [
       "3933"
      ]
     },
     "execution_count": 51,
     "metadata": {},
     "output_type": "execute_result"
    }
   ],
   "source": [
    "all_df = df[:3133+800][df_columns_to_keep]\n",
    "len(all_df)"
   ]
  },
  {
   "cell_type": "code",
   "execution_count": 62,
   "metadata": {},
   "outputs": [
    {
     "name": "stdout",
     "output_type": "stream",
     "text": [
      "                                                text  labels\n",
      "1  The utility of Conversation Analysis versus Ro...     0.0\n",
      "2  Leveraging the pharmacy executive beyond the p...     0.0\n",
      "3  The utilization of simulated patients for teac...     0.0\n",
      "4  Implementing an Antimicrobial Stewardship Prog...     0.0\n",
      "5  Exploration of pharmacist comfort with harm re...     0.0\n",
      "                                                 text  labels\n",
      "11  A multifaceted approach in leveraging electron...     0.0\n",
      "22  Oxcarbazepine-Induced Cutaneous Reaction in a ...     0.0\n",
      "25  Searching the Literature: A Simple Step-Wise P...     0.0\n",
      "37  Roles of Pharmacy Technicians in Preventing Pr...     0.0\n",
      "38  Evaluation of Patient Factors Associated With ...     0.0\n",
      "                                                text  labels\n",
      "1  The utility of Conversation Analysis versus Ro...     0.0\n",
      "2  Leveraging the pharmacy executive beyond the p...     0.0\n",
      "3  The utilization of simulated patients for teac...     0.0\n",
      "4  Implementing an Antimicrobial Stewardship Prog...     0.0\n",
      "5  Exploration of pharmacist comfort with harm re...     0.0\n",
      "                                                 text  labels\n",
      "8   Metabolic Activation of the Toxic Natural Prod...     0.0\n",
      "18  A pharmacist-led intervention to improve the m...     0.0\n",
      "23  Comparison of Interventions Made in an Ambulat...     1.0\n",
      "30  Parallel Assessment of Chemotherapy Adherence ...     0.0\n",
      "36  Remdesivir and Coronavirus Disease 2019 (COVID...     0.0\n",
      "                                                text  labels\n",
      "1  The utility of Conversation Analysis versus Ro...     0.0\n",
      "3  The utilization of simulated patients for teac...     0.0\n",
      "4  Implementing an Antimicrobial Stewardship Prog...     0.0\n",
      "7  Pharmacists' Perceptions of Handling Antimicro...     0.0\n",
      "8  Metabolic Activation of the Toxic Natural Prod...     0.0\n",
      "                                                 text  labels\n",
      "2   Leveraging the pharmacy executive beyond the p...     0.0\n",
      "5   Exploration of pharmacist comfort with harm re...     0.0\n",
      "6   Challenges for Polish Community Pharmacists in...     0.0\n",
      "10  Pharmacists' perceived role in supporting diab...     0.0\n",
      "12  Decision coaching for people making healthcare...     0.0\n",
      "                                                text  labels\n",
      "2  Leveraging the pharmacy executive beyond the p...     0.0\n",
      "3  The utilization of simulated patients for teac...     0.0\n",
      "4  Implementing an Antimicrobial Stewardship Prog...     0.0\n",
      "5  Exploration of pharmacist comfort with harm re...     0.0\n",
      "6  Challenges for Polish Community Pharmacists in...     0.0\n",
      "                                                 text  labels\n",
      "1   The utility of Conversation Analysis versus Ro...     0.0\n",
      "9   Development and Implementation of In-House Pha...     0.0\n",
      "19  The psychological health of patients diagnosed...     0.0\n",
      "20  Qualitative Investigation of Community Pharmac...     0.0\n",
      "24  Prescribing of Pressor Agents in Septic Shock:...     0.0\n",
      "                                                text  labels\n",
      "1  The utility of Conversation Analysis versus Ro...     0.0\n",
      "2  Leveraging the pharmacy executive beyond the p...     0.0\n",
      "5  Exploration of pharmacist comfort with harm re...     0.0\n",
      "6  Challenges for Polish Community Pharmacists in...     0.0\n",
      "8  Metabolic Activation of the Toxic Natural Prod...     0.0\n",
      "                                                 text  labels\n",
      "3   The utilization of simulated patients for teac...     0.0\n",
      "4   Implementing an Antimicrobial Stewardship Prog...     0.0\n",
      "7   Pharmacists' Perceptions of Handling Antimicro...     0.0\n",
      "13  Implementing a personalized pharmaceutical pla...     0.0\n",
      "14  Pharmacists and telemedicine: an innovative mo...     0.0\n"
     ]
    },
    {
     "data": {
      "image/png": "[encoded data removed]",
      "text/plain": [
       "<Figure size 432x288 with 1 Axes>"
      ]
     },
     "metadata": {
      "needs_background": "light"
     },
     "output_type": "display_data"
    },
    {
     "data": {
      "image/png": "[encoded data removed]",
      "text/plain": [
       "<Figure size 432x288 with 1 Axes>"
      ]
     },
     "metadata": {
      "needs_background": "light"
     },
     "output_type": "display_data"
    },
    {
     "data": {
      "image/png": "[encoded data removed]",
      "text/plain": [
       "<Figure size 432x288 with 1 Axes>"
      ]
     },
     "metadata": {
      "needs_background": "light"
     },
     "output_type": "display_data"
    },
    {
     "data": {
      "image/png": "[encoded data removed]",
      "text/plain": [
       "<Figure size 432x288 with 1 Axes>"
      ]
     },
     "metadata": {
      "needs_background": "light"
     },
     "output_type": "display_data"
    },
    {
     "data": {
      "image/png": "[encoded data removed]",
      "text/plain": [
       "<Figure size 432x288 with 1 Axes>"
      ]
     },
     "metadata": {
      "needs_background": "light"
     },
     "output_type": "display_data"
    }
   ],
   "source": [
    "kf = KFold(n_splits=5, shuffle=True)\n",
    "thresholds = []\n",
    "\n",
    "\n",
    "for train_idx, val_idx in kf.split(all_df):\n",
    "    train = all_df.iloc[train_idx]\n",
    "    print(train.head())\n",
    "    val = all_df.iloc[val_idx]\n",
    "    print(val.head())\n",
    "    \n",
    "    fold_pipe = Pipeline ([\n",
    "                  ('feature_ext_1', CountVectorizer()),\n",
    "                  ('classify', MultinomialNB(alpha=0.2))\n",
    "    ])\n",
    "    fold_pipe.fit(train['text'], train['labels'])\n",
    "    scores = fold_pipe.predict_proba(val['text'])[:,1]\n",
    "\n",
    "    PrecisionRecallDisplay.from_predictions(val['labels'], scores)\n",
    "\n",
    "    pr,re,th = precision_recall_curve(val['labels'], scores)\n",
    "    rth_df = pd.DataFrame.from_dict({'precision':pr[:-1],'recall':re[:-1],'threshold':th})\n",
    "\n",
    "    ceiling_recall = 0.99\n",
    "    thresholds.append(rth_df[rth_df.recall >= ceiling_recall].iloc[-1]['threshold'])"
   ]
  },
  {
   "cell_type": "code",
   "execution_count": 63,
   "metadata": {},
   "outputs": [
    {
     "data": {
      "text/html": [
       "<div>\n",
       "<style scoped>\n",
       "    .dataframe tbody tr th:only-of-type {\n",
       "        vertical-align: middle;\n",
       "    }\n",
       "\n",
       "    .dataframe tbody tr th {\n",
       "        vertical-align: top;\n",
       "    }\n",
       "\n",
       "    .dataframe thead th {\n",
       "        text-align: right;\n",
       "    }\n",
       "</style>\n",
       "<table border=\"1\" class=\"dataframe\">\n",
       "  <thead>\n",
       "    <tr style=\"text-align: right;\">\n",
       "      <th></th>\n",
       "      <th>0</th>\n",
       "    </tr>\n",
       "  </thead>\n",
       "  <tbody>\n",
       "    <tr>\n",
       "      <th>0</th>\n",
       "      <td>4.790254e-66</td>\n",
       "    </tr>\n",
       "    <tr>\n",
       "      <th>1</th>\n",
       "      <td>5.881673e-09</td>\n",
       "    </tr>\n",
       "    <tr>\n",
       "      <th>2</th>\n",
       "      <td>1.422739e-34</td>\n",
       "    </tr>\n",
       "    <tr>\n",
       "      <th>3</th>\n",
       "      <td>8.517278e-32</td>\n",
       "    </tr>\n",
       "    <tr>\n",
       "      <th>4</th>\n",
       "      <td>1.333260e-43</td>\n",
       "    </tr>\n",
       "  </tbody>\n",
       "</table>\n",
       "</div>"
      ],
      "text/plain": [
       "              0\n",
       "0  4.790254e-66\n",
       "1  5.881673e-09\n",
       "2  1.422739e-34\n",
       "3  8.517278e-32\n",
       "4  1.333260e-43"
      ]
     },
     "execution_count": 63,
     "metadata": {},
     "output_type": "execute_result"
    }
   ],
   "source": [
    "thr_df = pd.DataFrame(thresholds)\n",
    "thr_df"
   ]
  },
  {
   "cell_type": "code",
   "execution_count": 64,
   "metadata": {},
   "outputs": [
    {
     "name": "stdout",
     "output_type": "stream",
     "text": [
      "Mean threshold: 0.00000000117633463522\n",
      "Number of abstracts excluded from review based on recall threshold: 581 out of 786 for ratio of 0.739\n",
      "Adjusted threshold precision: 0.205, recall: 0.840, f1: 0.329, accuracy: 0.782\n",
      "Number of incorrectly excluded abstracts: 8\n"
     ]
    }
   ],
   "source": [
    "threshold = thr_df.mean()[0]\n",
    "print('Mean threshold: {:.20f}'.format(threshold))\n",
    "recall_test = []\n",
    "preds = []\n",
    "incorrect = []\n",
    "for i, label, score in zip(range(len(val['labels'])), val['labels'], scores):\n",
    "    if score >= threshold:\n",
    "        recall_test.append({'index':i, 'label':label, 'score':score})\n",
    "        preds.append(1)\n",
    "    else:\n",
    "        if label == 1:\n",
    "            incorrect.append(i)\n",
    "        preds.append(0)\n",
    "print('Number of abstracts excluded from review based on recall threshold: {} out of {} for ratio of {:.3f}'.format(len(val) - len(recall_test), len(val), (len(val) - len(recall_test)) / len(val)))\n",
    "print('Adjusted threshold precision: {:.3f}, recall: {:.3f}, f1: {:.3f}, accuracy: {:.3f}'.format(precision_score(val['labels'], preds), recall_score(val['labels'], preds), f1_score(val['labels'], preds), accuracy_score(val['labels'], preds)))\n",
    "print('Number of incorrectly excluded abstracts: {}'.format(len(incorrect)))\n"
   ]
  }
 ],
 "metadata": {
  "kernelspec": {
   "display_name": "Python 3.9.7 ('impact')",
   "language": "python",
   "name": "python3"
  },
  "language_info": {
   "codemirror_mode": {
    "name": "ipython",
    "version": 3
   },
   "file_extension": ".py",
   "mimetype": "text/x-python",
   "name": "python",
   "nbconvert_exporter": "python",
   "pygments_lexer": "ipython3",
   "version": "3.9.7"
  },
  "orig_nbformat": 4,
  "vscode": {
   "interpreter": {
    "hash": "b865e41611128619125efb3de810fd1945d838f9916dd1a16e8a8b77ba5194d7"
   }
  }
 },
 "nbformat": 4,
 "nbformat_minor": 2
}
