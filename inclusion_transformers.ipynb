{
 "cells": [
  {
   "cell_type": "code",
   "execution_count": 86,
   "metadata": {},
   "outputs": [],
   "source": [
    "import numpy as np\n",
    "import pandas as pd\n",
    "import pickle\n",
    "import scipy as sp\n",
    "import shap\n",
    "import torch\n",
    "\n",
    "from datasets import Dataset, DatasetDict\n",
    "from matplotlib import pyplot as plt\n",
    "from sklearn.metrics import accuracy_score, f1_score, precision_recall_curve, PrecisionRecallDisplay, precision_score, recall_score\n",
    "from sklearn.model_selection import train_test_split\n",
    "from tqdm.notebook import trange\n",
    "from ray import tune\n",
    "from transformers import AutoTokenizer, AutoModelForSequenceClassification, TextClassificationPipeline, TrainingArguments, Trainer"
   ]
  },
  {
   "cell_type": "code",
   "execution_count": 2,
   "metadata": {},
   "outputs": [],
   "source": [
    "### YOUR PATH HERE\n",
    "filepath = '.'"
   ]
  },
  {
   "cell_type": "markdown",
   "metadata": {},
   "source": [
    "# Import the dataset"
   ]
  },
  {
   "cell_type": "code",
   "execution_count": 3,
   "metadata": {},
   "outputs": [
    {
     "name": "stdout",
     "output_type": "stream",
     "text": [
      "Number of samples in all df: 3933, Number of samples in test df: 800, Number of samples in train_val df: 3133\n"
     ]
    }
   ],
   "source": [
    "df = pd.read_csv(filepath + '/data/second_gen/ratings.csv')[1:].fillna('')\n",
    "df['labels'] = df.apply(lambda x: x['rating_consensus'] if x['rating_consensus'] != '' else x['rating1'] if ((x['rating1'] == x['rating2']) and (x['consensus_reason'] == '') and (x['rating1'] != '')) else 'error', axis=1)\n",
    "test_df = df[-800:]\n",
    "train_val_df = df[:-800]\n",
    "print('Number of samples in all df: {}, Number of samples in test df: {}, Number of samples in train_val df: {}'.format(len(df),len(test_df), len(train_val_df)))"
   ]
  },
  {
   "cell_type": "code",
   "execution_count": 4,
   "metadata": {},
   "outputs": [
    {
     "name": "stdout",
     "output_type": "stream",
     "text": [
      "Length of train set: 2506\n",
      "Length of val set: 627\n",
      "Number of included in train set: 171.0 for ratio: 0.068\n",
      "Number of included in val set: 50.0 for ratio: 0.080\n"
     ]
    }
   ],
   "source": [
    "train_df, val_df = train_test_split (train_val_df, test_size=0.2)\n",
    "\n",
    "print('Length of train set: {}'.format(len(train_df)))\n",
    "print('Length of val set: {}'.format(len(val_df)))\n",
    "print('Number of included in train set: {} for ratio: {:.3f}'.format(train_df['labels'].sum(), train_df['labels'].sum()/len(train_df)))\n",
    "print('Number of included in val set: {} for ratio: {:.3f}'.format(val_df['labels'].sum(), val_df['labels'].sum()/len(val_df)))"
   ]
  },
  {
   "cell_type": "code",
   "execution_count": 5,
   "metadata": {},
   "outputs": [],
   "source": [
    "df_columns_to_keep = ['text', 'labels']\n",
    "train_val_df = train_val_df[df_columns_to_keep]\n",
    "train_df = train_df[df_columns_to_keep]\n",
    "val_df = val_df[df_columns_to_keep]\n",
    "test_df = test_df[df_columns_to_keep]"
   ]
  },
  {
   "cell_type": "code",
   "execution_count": 6,
   "metadata": {},
   "outputs": [],
   "source": [
    "train_val_ds = Dataset.from_pandas(train_val_df)\n",
    "train_ds = Dataset.from_pandas(train_df)\n",
    "val_ds = Dataset.from_pandas(val_df)\n",
    "test_ds = Dataset.from_pandas(test_df)\n",
    "\n",
    "ds = DatasetDict()\n",
    "ds['train_val'] = train_val_ds\n",
    "ds['train'] = train_ds\n",
    "ds['val'] = val_ds\n",
    "ds['test'] = test_ds"
   ]
  },
  {
   "cell_type": "code",
   "execution_count": 7,
   "metadata": {},
   "outputs": [
    {
     "name": "stderr",
     "output_type": "stream",
     "text": [
      "Stringifying the column: 100%|██████████| 4/4 [00:00<00:00, 999.54ba/s]\n",
      "Casting to class labels: 100%|██████████| 4/4 [00:00<00:00, 999.00ba/s]\n",
      "Casting the dataset: 100%|██████████| 1/1 [00:00<00:00, 83.26ba/s]\n",
      "Stringifying the column: 100%|██████████| 3/3 [00:00<00:00, 999.28ba/s]\n",
      "Casting to class labels: 100%|██████████| 3/3 [00:00<00:00, 998.88ba/s]\n",
      "Casting the dataset: 100%|██████████| 1/1 [00:00<00:00, 142.75ba/s]\n",
      "Stringifying the column: 100%|██████████| 1/1 [00:00<00:00, 998.64ba/s]\n",
      "Casting to class labels: 100%|██████████| 1/1 [00:00<00:00, 999.60ba/s]\n",
      "Casting the dataset: 100%|██████████| 1/1 [00:00<00:00, 499.86ba/s]\n",
      "Stringifying the column: 100%|██████████| 1/1 [00:00<00:00, 999.12ba/s]\n",
      "Casting to class labels: 100%|██████████| 1/1 [00:00<00:00, 999.12ba/s]\n",
      "Casting the dataset: 100%|██████████| 1/1 [00:00<00:00, 999.83ba/s]\n"
     ]
    }
   ],
   "source": [
    "ds = ds.class_encode_column('labels')"
   ]
  },
  {
   "cell_type": "markdown",
   "metadata": {},
   "source": [
    "# Model"
   ]
  },
  {
   "cell_type": "code",
   "execution_count": 8,
   "metadata": {},
   "outputs": [],
   "source": [
    "tokenizer = AutoTokenizer.from_pretrained('dmis-lab/biobert-base-cased-v1.2')"
   ]
  },
  {
   "cell_type": "code",
   "execution_count": 9,
   "metadata": {},
   "outputs": [
    {
     "name": "stderr",
     "output_type": "stream",
     "text": [
      "100%|██████████| 4/4 [00:00<00:00,  6.98ba/s]\n",
      "100%|██████████| 3/3 [00:00<00:00,  6.67ba/s]\n",
      "100%|██████████| 1/1 [00:00<00:00,  8.73ba/s]\n",
      "100%|██████████| 1/1 [00:00<00:00,  6.75ba/s]\n"
     ]
    }
   ],
   "source": [
    "def tokenizer_function(samples):\n",
    "    return tokenizer(samples['text'], padding=\"max_length\", truncation=True, max_length=512)\n",
    "\n",
    "tokenized_datasets = ds.map(tokenizer_function, batched=True)"
   ]
  },
  {
   "cell_type": "code",
   "execution_count": 10,
   "metadata": {},
   "outputs": [],
   "source": [
    "def compute_single_label_metrics(eval_pred):\n",
    "    logits, labels = eval_pred\n",
    "    predictions = np.argmax(logits, axis=1)\n",
    "    metrics = {'accuracy':accuracy_score(labels, predictions), 'f1':f1_score(labels, predictions), 'precision':precision_score(labels, predictions), 'recall':recall_score(labels, predictions)}\n",
    "    return metrics"
   ]
  },
  {
   "cell_type": "markdown",
   "metadata": {},
   "source": [
    "## HP search"
   ]
  },
  {
   "cell_type": "code",
   "execution_count": null,
   "metadata": {},
   "outputs": [],
   "source": [
    "def model_init():\n",
    "    return AutoModelForSequenceClassification.from_pretrained('dmis-lab/biobert-base-cased-v1.2', num_labels=2)\n",
    "\n",
    "hp_space = {\n",
    "    'learning_rate':tune.choice([5e-5, 2e-5, 1e-5, 8e-6, 5e-6, 2e-6, 1e-6]),\n",
    "    'num_train_epochs':tune.choice([1,2,3,4,5,6]),\n",
    "    'per_device_train_batch_size':8\n",
    "}\n",
    "training_args = TrainingArguments(filepath + '/results/inclusion/run1', evaluation_strategy='epoch', save_strategy='no', disable_tqdm=True)\n",
    "trainer = Trainer(model_init=model_init, args=training_args, compute_metrics=compute_single_label_metrics, train_dataset=tokenized_datasets['train'], eval_dataset=tokenized_datasets['val'])\n",
    "best_model = trainer.hyperparameter_search(hp_space=lambda _: hp_space, direction='maximize', n_trials=40, local_dir=filepath + '/results/inclusion/run1')"
   ]
  },
  {
   "cell_type": "code",
   "execution_count": null,
   "metadata": {},
   "outputs": [],
   "source": [
    "def model_init():\n",
    "    return AutoModelForSequenceClassification.from_pretrained('dmis-lab/biobert-base-cased-v1.2', num_labels=2)\n",
    "\n",
    "hp_space = {\n",
    "    'learning_rate':tune.choice([3e-5, 2e-5, 1.2e-5, 1e-5, 8e-6]),\n",
    "    'num_train_epochs':tune.choice([1,2,3,4,6,8,10]),\n",
    "    'per_device_train_batch_size':8\n",
    "}\n",
    "training_args = TrainingArguments(filepath + '/results/inclusion/run2', evaluation_strategy='epoch', save_strategy='no', disable_tqdm=True)\n",
    "trainer = Trainer(model_init=model_init, args=training_args, compute_metrics=compute_single_label_metrics, train_dataset=tokenized_datasets['train'], eval_dataset=tokenized_datasets['val'])\n",
    "best_model = trainer.hyperparameter_search(hp_space=lambda _: hp_space, direction='maximize', n_trials=40, local_dir=filepath + '/results/inclusion/transformers_hp_search/ray')"
   ]
  },
  {
   "cell_type": "code",
   "execution_count": null,
   "metadata": {},
   "outputs": [],
   "source": [
    "def model_init():\n",
    "    return AutoModelForSequenceClassification.from_pretrained('dmis-lab/biobert-base-cased-v1.2', num_labels=2)\n",
    "\n",
    "hp_space = {\n",
    "    'learning_rate':tune.choice([3e-5, 2e-5, 1.2e-5, 1e-5, 8e-6]),\n",
    "    'num_train_epochs':tune.choice([1,2,3,4,6,8,10]),\n",
    "    'per_device_train_batch_size':8\n",
    "}\n",
    "training_args = TrainingArguments(filepath + '/results/inclusion/run2', evaluation_strategy='epoch', save_strategy='no', disable_tqdm=True)\n",
    "trainer = Trainer(model_init=model_init, args=training_args, compute_metrics=compute_single_label_metrics, train_dataset=tokenized_datasets['train'], eval_dataset=tokenized_datasets['val'])\n",
    "best_model = trainer.hyperparameter_search(hp_space=lambda _: hp_space, direction='maximize', n_trials=40, local_dir=filepath + '/results/inclusion/run2')"
   ]
  },
  {
   "cell_type": "code",
   "execution_count": null,
   "metadata": {},
   "outputs": [],
   "source": [
    "def model_init():\n",
    "    return AutoModelForSequenceClassification.from_pretrained('dmis-lab/biobert-base-cased-v1.2', num_labels=2)\n",
    "\n",
    "hp_space = {\n",
    "    'learning_rate':tune.choice([1.5e-5, 1.2e-5, 1e-5]),\n",
    "    'num_train_epochs':tune.choice([10]),\n",
    "    'per_device_train_batch_size':8\n",
    "}\n",
    "training_args = TrainingArguments(filepath + '/results/inclusion/run3', evaluation_strategy='epoch', save_strategy='no', disable_tqdm=True)\n",
    "trainer = Trainer(model_init=model_init, args=training_args, compute_metrics=compute_single_label_metrics, train_dataset=tokenized_datasets['train'], eval_dataset=tokenized_datasets['val'])\n",
    "best_model = trainer.hyperparameter_search(hp_space=lambda _: hp_space, direction='maximize', n_trials=40, local_dir=filepath + '/results/inclusion/run3')"
   ]
  },
  {
   "cell_type": "markdown",
   "metadata": {},
   "source": [
    "### Train test eval model"
   ]
  },
  {
   "cell_type": "code",
   "execution_count": 11,
   "metadata": {},
   "outputs": [
    {
     "name": "stderr",
     "output_type": "stream",
     "text": [
      "Some weights of the model checkpoint at dmis-lab/biobert-base-cased-v1.2 were not used when initializing BertForSequenceClassification: ['cls.predictions.transform.LayerNorm.bias', 'cls.predictions.bias', 'cls.predictions.transform.dense.weight', 'cls.predictions.transform.dense.bias', 'cls.seq_relationship.weight', 'cls.predictions.decoder.weight', 'cls.predictions.transform.LayerNorm.weight', 'cls.seq_relationship.bias', 'cls.predictions.decoder.bias']\n",
      "- This IS expected if you are initializing BertForSequenceClassification from the checkpoint of a model trained on another task or with another architecture (e.g. initializing a BertForSequenceClassification model from a BertForPreTraining model).\n",
      "- This IS NOT expected if you are initializing BertForSequenceClassification from the checkpoint of a model that you expect to be exactly identical (initializing a BertForSequenceClassification model from a BertForSequenceClassification model).\n",
      "Some weights of BertForSequenceClassification were not initialized from the model checkpoint at dmis-lab/biobert-base-cased-v1.2 and are newly initialized: ['classifier.bias', 'classifier.weight']\n",
      "You should probably TRAIN this model on a down-stream task to be able to use it for predictions and inference.\n",
      "The following columns in the training set  don't have a corresponding argument in `BertForSequenceClassification.forward` and have been ignored: text.\n",
      "***** Running training *****\n",
      "  Num examples = 3133\n",
      "  Num Epochs = 4\n",
      "  Instantaneous batch size per device = 8\n",
      "  Total train batch size (w. parallel, distributed & accumulation) = 8\n",
      "  Gradient Accumulation steps = 1\n",
      "  Total optimization steps = 1568\n",
      " 32%|███▏      | 500/1568 [03:19<07:05,  2.51it/s]Saving model checkpoint to ./models/test_set_eval_models/inclusion_biobert\\checkpoint-500\n",
      "Configuration saved in ./models/test_set_eval_models/inclusion_biobert\\checkpoint-500\\config.json\n",
      "Model weights saved in ./models/test_set_eval_models/inclusion_biobert\\checkpoint-500\\pytorch_model.bin\n",
      " 64%|██████▍   | 1000/1568 [06:40<03:44,  2.53it/s]Saving model checkpoint to ./models/test_set_eval_models/inclusion_biobert\\checkpoint-1000\n",
      "Configuration saved in ./models/test_set_eval_models/inclusion_biobert\\checkpoint-1000\\config.json\n",
      "Model weights saved in ./models/test_set_eval_models/inclusion_biobert\\checkpoint-1000\\pytorch_model.bin\n",
      " 96%|█████████▌| 1500/1568 [10:02<00:27,  2.48it/s]Saving model checkpoint to ./models/test_set_eval_models/inclusion_biobert\\checkpoint-1500\n",
      "Configuration saved in ./models/test_set_eval_models/inclusion_biobert\\checkpoint-1500\\config.json\n",
      "Model weights saved in ./models/test_set_eval_models/inclusion_biobert\\checkpoint-1500\\pytorch_model.bin\n",
      "100%|██████████| 1568/1568 [10:32<00:00,  2.80it/s]\n",
      "\n",
      "Training completed. Do not forget to share your model on huggingface.co/models =)\n",
      "\n",
      "\n",
      "100%|██████████| 1568/1568 [10:32<00:00,  2.48it/s]\n",
      "Saving model checkpoint to ./models/test_set_eval_models/inclusion_biobert/model\n",
      "Configuration saved in ./models/test_set_eval_models/inclusion_biobert/model\\config.json\n"
     ]
    },
    {
     "name": "stdout",
     "output_type": "stream",
     "text": [
      "{'train_runtime': 633.0953, 'train_samples_per_second': 19.795, 'train_steps_per_second': 2.477, 'train_loss': 0.11762488618188975, 'epoch': 4.0}\n"
     ]
    },
    {
     "name": "stderr",
     "output_type": "stream",
     "text": [
      "Model weights saved in ./models/test_set_eval_models/inclusion_biobert/model\\pytorch_model.bin\n"
     ]
    }
   ],
   "source": [
    "model = AutoModelForSequenceClassification.from_pretrained('dmis-lab/biobert-base-cased-v1.2', num_labels=2)\n",
    "training_args = TrainingArguments(filepath + '/models/test_set_eval_models/inclusion_biobert', evaluation_strategy='no', logging_strategy='no', learning_rate=1e-5, num_train_epochs=4)\n",
    "trainer = Trainer(model=model, args=training_args, compute_metrics=compute_single_label_metrics, train_dataset=tokenized_datasets['train_val'])\n",
    "trainer.train()\n",
    "trainer.save_model(filepath + '/models/test_set_eval_models/inclusion_biobert/model')"
   ]
  },
  {
   "cell_type": "code",
   "execution_count": 12,
   "metadata": {},
   "outputs": [
    {
     "name": "stderr",
     "output_type": "stream",
     "text": [
      "The following columns in the evaluation set  don't have a corresponding argument in `BertForSequenceClassification.forward` and have been ignored: text.\n",
      "***** Running Evaluation *****\n",
      "  Num examples = 800\n",
      "  Batch size = 8\n",
      "100%|██████████| 100/100 [00:12<00:00,  7.97it/s]\n"
     ]
    },
    {
     "data": {
      "text/plain": [
       "{'eval_loss': 0.16631275415420532,\n",
       " 'eval_accuracy': 0.95875,\n",
       " 'eval_f1': 0.717948717948718,\n",
       " 'eval_precision': 0.6666666666666666,\n",
       " 'eval_recall': 0.7777777777777778,\n",
       " 'eval_runtime': 12.8159,\n",
       " 'eval_samples_per_second': 62.422,\n",
       " 'eval_steps_per_second': 7.803,\n",
       " 'epoch': 4.0}"
      ]
     },
     "execution_count": 12,
     "metadata": {},
     "output_type": "execute_result"
    }
   ],
   "source": [
    "trainer.evaluate(eval_dataset=tokenized_datasets['test'])"
   ]
  },
  {
   "cell_type": "markdown",
   "metadata": {},
   "source": [
    "# Determine thresholds to automatically include or exclude papers\n",
    "Recall = 1 or precision = 1"
   ]
  },
  {
   "cell_type": "code",
   "execution_count": 80,
   "metadata": {},
   "outputs": [
    {
     "name": "stderr",
     "output_type": "stream",
     "text": [
      "Could not locate the tokenizer configuration file, will try to use the model config instead.\n",
      "loading configuration file https://huggingface.co/dmis-lab/biobert-base-cased-v1.2/resolve/main/config.json from cache at C:\\Users\\maxim/.cache\\huggingface\\transformers\\ece5e89bab3b63a40e413c7f599e6081663cad06eb394e48d5023930733d15a3.ad895c9bc4687ffedea1a4cc498ac3f67ebd2083732981c2a06f548cde7d6582\n",
      "Model config BertConfig {\n",
      "  \"architectures\": [\n",
      "    \"BertForMaskedLM\"\n",
      "  ],\n",
      "  \"attention_probs_dropout_prob\": 0.1,\n",
      "  \"classifier_dropout\": null,\n",
      "  \"hidden_act\": \"gelu\",\n",
      "  \"hidden_dropout_prob\": 0.1,\n",
      "  \"hidden_size\": 768,\n",
      "  \"initializer_range\": 0.02,\n",
      "  \"intermediate_size\": 3072,\n",
      "  \"layer_norm_eps\": 1e-12,\n",
      "  \"max_position_embeddings\": 512,\n",
      "  \"model_type\": \"bert\",\n",
      "  \"num_attention_heads\": 12,\n",
      "  \"num_hidden_layers\": 12,\n",
      "  \"pad_token_id\": 0,\n",
      "  \"position_embedding_type\": \"absolute\",\n",
      "  \"transformers_version\": \"4.12.5\",\n",
      "  \"type_vocab_size\": 2,\n",
      "  \"use_cache\": true,\n",
      "  \"vocab_size\": 28996\n",
      "}\n",
      "\n",
      "loading file https://huggingface.co/dmis-lab/biobert-base-cased-v1.2/resolve/main/vocab.txt from cache at C:\\Users\\maxim/.cache\\huggingface\\transformers\\e1dbe55c1d83f79c61148b28fbe20bfbb6aeb2f7163225830b3063fda58425e5.437aa611e89f6fc6675a049d2b5545390adbc617e7d655286421c191d2be2791\n",
      "loading file https://huggingface.co/dmis-lab/biobert-base-cased-v1.2/resolve/main/tokenizer.json from cache at None\n",
      "loading file https://huggingface.co/dmis-lab/biobert-base-cased-v1.2/resolve/main/added_tokens.json from cache at None\n",
      "loading file https://huggingface.co/dmis-lab/biobert-base-cased-v1.2/resolve/main/special_tokens_map.json from cache at None\n",
      "loading file https://huggingface.co/dmis-lab/biobert-base-cased-v1.2/resolve/main/tokenizer_config.json from cache at None\n",
      "loading configuration file https://huggingface.co/dmis-lab/biobert-base-cased-v1.2/resolve/main/config.json from cache at C:\\Users\\maxim/.cache\\huggingface\\transformers\\ece5e89bab3b63a40e413c7f599e6081663cad06eb394e48d5023930733d15a3.ad895c9bc4687ffedea1a4cc498ac3f67ebd2083732981c2a06f548cde7d6582\n",
      "Model config BertConfig {\n",
      "  \"architectures\": [\n",
      "    \"BertForMaskedLM\"\n",
      "  ],\n",
      "  \"attention_probs_dropout_prob\": 0.1,\n",
      "  \"classifier_dropout\": null,\n",
      "  \"hidden_act\": \"gelu\",\n",
      "  \"hidden_dropout_prob\": 0.1,\n",
      "  \"hidden_size\": 768,\n",
      "  \"initializer_range\": 0.02,\n",
      "  \"intermediate_size\": 3072,\n",
      "  \"layer_norm_eps\": 1e-12,\n",
      "  \"max_position_embeddings\": 512,\n",
      "  \"model_type\": \"bert\",\n",
      "  \"num_attention_heads\": 12,\n",
      "  \"num_hidden_layers\": 12,\n",
      "  \"pad_token_id\": 0,\n",
      "  \"position_embedding_type\": \"absolute\",\n",
      "  \"transformers_version\": \"4.12.5\",\n",
      "  \"type_vocab_size\": 2,\n",
      "  \"use_cache\": true,\n",
      "  \"vocab_size\": 28996\n",
      "}\n",
      "\n",
      "loading configuration file https://huggingface.co/dmis-lab/biobert-base-cased-v1.2/resolve/main/config.json from cache at C:\\Users\\maxim/.cache\\huggingface\\transformers\\ece5e89bab3b63a40e413c7f599e6081663cad06eb394e48d5023930733d15a3.ad895c9bc4687ffedea1a4cc498ac3f67ebd2083732981c2a06f548cde7d6582\n",
      "Model config BertConfig {\n",
      "  \"architectures\": [\n",
      "    \"BertForMaskedLM\"\n",
      "  ],\n",
      "  \"attention_probs_dropout_prob\": 0.1,\n",
      "  \"classifier_dropout\": null,\n",
      "  \"hidden_act\": \"gelu\",\n",
      "  \"hidden_dropout_prob\": 0.1,\n",
      "  \"hidden_size\": 768,\n",
      "  \"initializer_range\": 0.02,\n",
      "  \"intermediate_size\": 3072,\n",
      "  \"layer_norm_eps\": 1e-12,\n",
      "  \"max_position_embeddings\": 512,\n",
      "  \"model_type\": \"bert\",\n",
      "  \"num_attention_heads\": 12,\n",
      "  \"num_hidden_layers\": 12,\n",
      "  \"pad_token_id\": 0,\n",
      "  \"position_embedding_type\": \"absolute\",\n",
      "  \"transformers_version\": \"4.12.5\",\n",
      "  \"type_vocab_size\": 2,\n",
      "  \"use_cache\": true,\n",
      "  \"vocab_size\": 28996\n",
      "}\n",
      "\n",
      "loading configuration file ./models/test_set_eval_models/inclusion_biobert/model/config.json\n",
      "Model config BertConfig {\n",
      "  \"_name_or_path\": \"dmis-lab/biobert-base-cased-v1.2\",\n",
      "  \"architectures\": [\n",
      "    \"BertForSequenceClassification\"\n",
      "  ],\n",
      "  \"attention_probs_dropout_prob\": 0.1,\n",
      "  \"classifier_dropout\": null,\n",
      "  \"hidden_act\": \"gelu\",\n",
      "  \"hidden_dropout_prob\": 0.1,\n",
      "  \"hidden_size\": 768,\n",
      "  \"initializer_range\": 0.02,\n",
      "  \"intermediate_size\": 3072,\n",
      "  \"layer_norm_eps\": 1e-12,\n",
      "  \"max_position_embeddings\": 512,\n",
      "  \"model_type\": \"bert\",\n",
      "  \"num_attention_heads\": 12,\n",
      "  \"num_hidden_layers\": 12,\n",
      "  \"pad_token_id\": 0,\n",
      "  \"position_embedding_type\": \"absolute\",\n",
      "  \"problem_type\": \"single_label_classification\",\n",
      "  \"torch_dtype\": \"float32\",\n",
      "  \"transformers_version\": \"4.12.5\",\n",
      "  \"type_vocab_size\": 2,\n",
      "  \"use_cache\": true,\n",
      "  \"vocab_size\": 28996\n",
      "}\n",
      "\n",
      "loading weights file ./models/test_set_eval_models/inclusion_biobert/model/pytorch_model.bin\n",
      "All model checkpoint weights were used when initializing BertForSequenceClassification.\n",
      "\n",
      "All the weights of BertForSequenceClassification were initialized from the model checkpoint at ./models/test_set_eval_models/inclusion_biobert/model/.\n",
      "If your task is similar to the task the model of the checkpoint was trained on, you can already use BertForSequenceClassification for predictions without further training.\n"
     ]
    }
   ],
   "source": [
    "tokenizer = AutoTokenizer.from_pretrained('dmis-lab/biobert-base-cased-v1.2')\n",
    "tokenizer_kwargs = {'padding':True,'truncation':True,'max_length':512}\n",
    "model = AutoModelForSequenceClassification.from_pretrained(filepath + '/models/test_set_eval_models/inclusion_biobert/model/', local_files_only=True)\n",
    "pipe = TextClassificationPipeline(model=model, tokenizer=tokenizer, return_all_scores=True, device=0)"
   ]
  },
  {
   "cell_type": "code",
   "execution_count": 81,
   "metadata": {},
   "outputs": [
    {
     "data": {
      "application/vnd.jupyter.widget-view+json": {
       "model_id": "eff29eb727a2487f9496f592076d316d",
       "version_major": 2,
       "version_minor": 0
      },
      "text/plain": [
       "  0%|          | 0/800 [00:00<?, ?it/s]"
      ]
     },
     "metadata": {},
     "output_type": "display_data"
    },
    {
     "name": "stderr",
     "output_type": "stream",
     "text": [
      "You seem to be using the pipelines sequentially on GPU. In order to maximize efficiency please use a dataset\n"
     ]
    }
   ],
   "source": [
    "scores = []\n",
    "for i in trange(len(test_ds)):\n",
    "    scores.append(pipe(test_ds[i]['text'], **tokenizer_kwargs)[0][1]['score'])"
   ]
  },
  {
   "cell_type": "code",
   "execution_count": 85,
   "metadata": {},
   "outputs": [
    {
     "data": {
      "text/plain": [
       "<sklearn.metrics._plot.precision_recall_curve.PrecisionRecallDisplay at 0x200fe9293d0>"
      ]
     },
     "execution_count": 85,
     "metadata": {},
     "output_type": "execute_result"
    },
    {
     "data": {
      "image/png": "[encoded data removed]",
      "text/plain": [
       "<Figure size 432x288 with 1 Axes>"
      ]
     },
     "metadata": {
      "needs_background": "light"
     },
     "output_type": "display_data"
    }
   ],
   "source": [
    "PrecisionRecallDisplay.from_predictions(test_ds['labels'], scores)"
   ]
  },
  {
   "cell_type": "code",
   "execution_count": 163,
   "metadata": {},
   "outputs": [],
   "source": [
    "pr,re,th = precision_recall_curve(test_ds['labels'], scores)\n",
    "rth_df = pd.DataFrame.from_dict({'precision':pr[:-1],'recall':re[:-1],'threshold':th})\n",
    "pth_df = rth_df.reindex(index=rth_df.index[::-1])"
   ]
  },
  {
   "cell_type": "code",
   "execution_count": 164,
   "metadata": {},
   "outputs": [
    {
     "data": {
      "text/plain": [
       "precision    0.355263\n",
       "recall       1.000000\n",
       "threshold    0.000826\n",
       "Name: 0, dtype: float64"
      ]
     },
     "execution_count": 164,
     "metadata": {},
     "output_type": "execute_result"
    }
   ],
   "source": [
    "ceiling_recall = 0.99\n",
    "rth_df[rth_df.recall >= ceiling_recall].iloc[-1]"
   ]
  },
  {
   "cell_type": "code",
   "execution_count": 192,
   "metadata": {},
   "outputs": [
    {
     "name": "stdout",
     "output_type": "stream",
     "text": [
      "Number of abstracts excluded from review based on recall threshold: 648 out of 800 for ratio of 0.810\n"
     ]
    }
   ],
   "source": [
    "recall_threshold = 0.000826\n",
    "recall_test = []\n",
    "for i, label, score in zip(range(len(test_ds['labels'])), test_ds['labels'], scores):\n",
    "    if score >= recall_threshold:\n",
    "        recall_test.append({'index':i, 'label':label, 'score':score})\n",
    "print('Number of abstracts excluded from review based on recall threshold: {} out of {} for ratio of {:.3f}'.format(len(test_ds) - len(recall_test), len(test_ds), (len(test_ds) - len(recall_test)) / len(test_ds)))\n",
    "    "
   ]
  },
  {
   "cell_type": "code",
   "execution_count": 189,
   "metadata": {},
   "outputs": [
    {
     "name": "stdout",
     "output_type": "stream",
     "text": [
      "Label: 1.0, Score: 0.9916127920150757\n",
      "Pharmacist-Driven Methicillin-Resistant S. aureus Polymerase Chain Reaction Testing for Pneumonia. BACKGROUND Nasal colonization with methicillin-resistant Staphylococcus aureus (MRSA) can be detected using nasal swab polymerase chain reaction (PCR) assay and is associated with clinical MRSA infection. The MRSA nasal PCR has a rapid turnaround time and a negative predictive value for MRSA pneumonia of >98%; however, data are limited in critically ill patients. OBJECTIVE The purpose of this study is to determine the impact of a pharmacist-driven algorithm, utilizing MRSA PCR nasal screening on duration of anti-MRSA therapy in patients admitted to the intensive care unit (ICU) with suspected pneumonia. METHODS A single-center pre/post study was conducted in 4 ICUs at a large tertiary care community hospital. Adult patients admitted to the ICU initiated on vancomycin or linezolid for pneumonia managed using a pharmacist-driven MRSA PCR algorithm were included in the algorithm cohort. A historical cohort with standard management was matched 1:1 by age, type of pneumonia, and Acute Physiology and Chronic Health Evaluation II (APACHE II) score. The primary outcome was duration of anti-MRSA therapy. Secondary outcomes included MRSA rates, number of vancomycin levels, new onset of acute kidney injury (AKI), ICU length of stay (LOS), hospital LOS, and mortality. RESULTS Of the 245 patients screened, 50 patients met inclusion criteria for the algorithm cohort and were matched to 50 patients in the historical cohort. The duration of anti-MRSA therapy was significantly lower compared with the historical cohort (47 vs 95 hours; P < 0.001). Secondary outcomes were similar between groups for MRSA rates, new onset of AKI, LOS, and mortality. There were less vancomycin levels ordered in the algorithm cohort (2 vs 3, P = 0.026). CONCLUSIONS A pharmacist-driven MRSA PCR algorithm significantly reduced anti-MRSA duration of therapy in critically ill patients with pneumonia. Future studies should validate these results in critically ill populations and in settings where MRSA pneumonia is more prevalent.\n"
     ]
    }
   ],
   "source": [
    "i = 28\n",
    "print('Label: {}, Score: {}\\n{}'.format(recall_test[i]['label'], recall_test[i]['score'], test_ds[recall_test[i]['index']]['text']))"
   ]
  },
  {
   "cell_type": "code",
   "execution_count": 197,
   "metadata": {},
   "outputs": [
    {
     "data": {
      "text/plain": [
       "precision    1.000000\n",
       "recall       0.037037\n",
       "threshold    0.995476\n",
       "Name: 150, dtype: float64"
      ]
     },
     "execution_count": 197,
     "metadata": {},
     "output_type": "execute_result"
    }
   ],
   "source": [
    "ceiling_precision = 0.88\n",
    "pth_df[pth_df.precision >= ceiling_precision].iloc[-1]"
   ]
  },
  {
   "cell_type": "code",
   "execution_count": 198,
   "metadata": {},
   "outputs": [
    {
     "name": "stdout",
     "output_type": "stream",
     "text": [
      "Number of abstracts excluded from review based on precision threshold: 1 out of 800 for ratio of 0.001\n"
     ]
    }
   ],
   "source": [
    "precision_threshold = 0.995476\n",
    "precision_test = []\n",
    "for i, label, score in zip(range(len(test_ds['labels'])), test_ds['labels'], scores):\n",
    "    if score >= precision_threshold:\n",
    "        precision_test.append({'index':i, 'label':label, 'score':score})\n",
    "print('Number of abstracts excluded from review based on precision threshold: {} out of {} for ratio of {:.3f}'.format(len(precision_test), len(test_ds), len(precision_test) / len(test_ds)))\n",
    "    "
   ]
  },
  {
   "cell_type": "code",
   "execution_count": 201,
   "metadata": {},
   "outputs": [
    {
     "name": "stdout",
     "output_type": "stream",
     "text": [
      "Label: 1.0, Score: 0.9959228038787842\n",
      "Implementation of a pharmacist-led diabetes management service in an endocrinology clinic. BACKGROUND Diabetes is a complicated health condition that can lead to significant health complications. Pharmacists are in an ideal position to make therapeutic interventions, provide clinical education, and can provide necessary follow-up to evaluate response to therapy for patients with diabetes. OBJECTIVES The primary objective of this study is to evaluate the mean change in hemoglobin A1c (HbA1c) in patients receiving short-term diabetes management services from a clinical pharmacist through collaborative drug therapy management. METHODS This study is a single-center retrospective chart review of patients with diabetes who have been referred by their endocrinologist to the clinical pharmacist for short-term intensification of pharmacologic management of hyperglycemia. Patients included in the study completed at least 2 visits with the pharmacist during the study period. The primary outcome was to evaluate the mean absolute change in HbA1c at 3-6 months from baseline. RESULTS Data were collected from 117 patients. The average age was 55 years (19-91 years, SD ± 14.5), 65 patients (55.6%) were female, average duration of diabetes was 14.9 years (0.5-49 years, SD ± 9.9), 21 patients (17.9%) had type 1 diabetes, 96 patients (82.1%) had type 2 diabetes, and 88 patients (75.2%) had a baseline HbA1c of at least 8.5%. On average, patients reduced their HbA1c by 2.0% (P < 0.001) at 3-6 months. For patients with a baseline HbA1c of at least 8.5%, they experienced a 2.5% (P < 0.001) reduction in HbA1c at 3-6 months. CONCLUSION The addition of a clinical pharmacist within the endocrinology practice was associated with significant improvements in glycemic control for those referred. This short-term, intensive service model demonstrates that patients can achieve significant reductions in HbA1c with temporary support from a clinical pharmacist.\n"
     ]
    }
   ],
   "source": [
    "i = 0\n",
    "print('Label: {}, Score: {}\\n{}'.format(precision_test[i]['label'], precision_test[i]['score'], test_ds[precision_test[i]['index']]['text']))"
   ]
  },
  {
   "cell_type": "markdown",
   "metadata": {},
   "source": [
    "# Train a production model"
   ]
  },
  {
   "cell_type": "code",
   "execution_count": 203,
   "metadata": {},
   "outputs": [
    {
     "name": "stderr",
     "output_type": "stream",
     "text": [
      "Stringifying the column: 100%|██████████| 4/4 [00:00<00:00, 666.11ba/s]\n",
      "Casting to class labels: 100%|██████████| 4/4 [00:00<00:00, 666.05ba/s]\n",
      "Casting the dataset: 100%|██████████| 1/1 [00:00<00:00, 62.44ba/s]\n",
      "Could not locate the tokenizer configuration file, will try to use the model config instead.\n",
      "loading configuration file https://huggingface.co/dmis-lab/biobert-base-cased-v1.2/resolve/main/config.json from cache at C:\\Users\\maxim/.cache\\huggingface\\transformers\\ece5e89bab3b63a40e413c7f599e6081663cad06eb394e48d5023930733d15a3.ad895c9bc4687ffedea1a4cc498ac3f67ebd2083732981c2a06f548cde7d6582\n",
      "Model config BertConfig {\n",
      "  \"architectures\": [\n",
      "    \"BertForMaskedLM\"\n",
      "  ],\n",
      "  \"attention_probs_dropout_prob\": 0.1,\n",
      "  \"classifier_dropout\": null,\n",
      "  \"hidden_act\": \"gelu\",\n",
      "  \"hidden_dropout_prob\": 0.1,\n",
      "  \"hidden_size\": 768,\n",
      "  \"initializer_range\": 0.02,\n",
      "  \"intermediate_size\": 3072,\n",
      "  \"layer_norm_eps\": 1e-12,\n",
      "  \"max_position_embeddings\": 512,\n",
      "  \"model_type\": \"bert\",\n",
      "  \"num_attention_heads\": 12,\n",
      "  \"num_hidden_layers\": 12,\n",
      "  \"pad_token_id\": 0,\n",
      "  \"position_embedding_type\": \"absolute\",\n",
      "  \"transformers_version\": \"4.12.5\",\n",
      "  \"type_vocab_size\": 2,\n",
      "  \"use_cache\": true,\n",
      "  \"vocab_size\": 28996\n",
      "}\n",
      "\n",
      "loading file https://huggingface.co/dmis-lab/biobert-base-cased-v1.2/resolve/main/vocab.txt from cache at C:\\Users\\maxim/.cache\\huggingface\\transformers\\e1dbe55c1d83f79c61148b28fbe20bfbb6aeb2f7163225830b3063fda58425e5.437aa611e89f6fc6675a049d2b5545390adbc617e7d655286421c191d2be2791\n",
      "loading file https://huggingface.co/dmis-lab/biobert-base-cased-v1.2/resolve/main/tokenizer.json from cache at None\n",
      "loading file https://huggingface.co/dmis-lab/biobert-base-cased-v1.2/resolve/main/added_tokens.json from cache at None\n",
      "loading file https://huggingface.co/dmis-lab/biobert-base-cased-v1.2/resolve/main/special_tokens_map.json from cache at None\n",
      "loading file https://huggingface.co/dmis-lab/biobert-base-cased-v1.2/resolve/main/tokenizer_config.json from cache at None\n",
      "loading configuration file https://huggingface.co/dmis-lab/biobert-base-cased-v1.2/resolve/main/config.json from cache at C:\\Users\\maxim/.cache\\huggingface\\transformers\\ece5e89bab3b63a40e413c7f599e6081663cad06eb394e48d5023930733d15a3.ad895c9bc4687ffedea1a4cc498ac3f67ebd2083732981c2a06f548cde7d6582\n",
      "Model config BertConfig {\n",
      "  \"architectures\": [\n",
      "    \"BertForMaskedLM\"\n",
      "  ],\n",
      "  \"attention_probs_dropout_prob\": 0.1,\n",
      "  \"classifier_dropout\": null,\n",
      "  \"hidden_act\": \"gelu\",\n",
      "  \"hidden_dropout_prob\": 0.1,\n",
      "  \"hidden_size\": 768,\n",
      "  \"initializer_range\": 0.02,\n",
      "  \"intermediate_size\": 3072,\n",
      "  \"layer_norm_eps\": 1e-12,\n",
      "  \"max_position_embeddings\": 512,\n",
      "  \"model_type\": \"bert\",\n",
      "  \"num_attention_heads\": 12,\n",
      "  \"num_hidden_layers\": 12,\n",
      "  \"pad_token_id\": 0,\n",
      "  \"position_embedding_type\": \"absolute\",\n",
      "  \"transformers_version\": \"4.12.5\",\n",
      "  \"type_vocab_size\": 2,\n",
      "  \"use_cache\": true,\n",
      "  \"vocab_size\": 28996\n",
      "}\n",
      "\n",
      "loading configuration file https://huggingface.co/dmis-lab/biobert-base-cased-v1.2/resolve/main/config.json from cache at C:\\Users\\maxim/.cache\\huggingface\\transformers\\ece5e89bab3b63a40e413c7f599e6081663cad06eb394e48d5023930733d15a3.ad895c9bc4687ffedea1a4cc498ac3f67ebd2083732981c2a06f548cde7d6582\n",
      "Model config BertConfig {\n",
      "  \"architectures\": [\n",
      "    \"BertForMaskedLM\"\n",
      "  ],\n",
      "  \"attention_probs_dropout_prob\": 0.1,\n",
      "  \"classifier_dropout\": null,\n",
      "  \"hidden_act\": \"gelu\",\n",
      "  \"hidden_dropout_prob\": 0.1,\n",
      "  \"hidden_size\": 768,\n",
      "  \"initializer_range\": 0.02,\n",
      "  \"intermediate_size\": 3072,\n",
      "  \"layer_norm_eps\": 1e-12,\n",
      "  \"max_position_embeddings\": 512,\n",
      "  \"model_type\": \"bert\",\n",
      "  \"num_attention_heads\": 12,\n",
      "  \"num_hidden_layers\": 12,\n",
      "  \"pad_token_id\": 0,\n",
      "  \"position_embedding_type\": \"absolute\",\n",
      "  \"transformers_version\": \"4.12.5\",\n",
      "  \"type_vocab_size\": 2,\n",
      "  \"use_cache\": true,\n",
      "  \"vocab_size\": 28996\n",
      "}\n",
      "\n",
      "100%|██████████| 4/4 [00:02<00:00,  1.47ba/s]\n"
     ]
    }
   ],
   "source": [
    "all_df = df[df_columns_to_keep]\n",
    "all_ds = Dataset.from_pandas(all_df)\n",
    "all_ds = all_ds.class_encode_column('labels')\n",
    "tokenizer = AutoTokenizer.from_pretrained('dmis-lab/biobert-base-cased-v1.2')\n",
    "\n",
    "def tokenizer_function(samples):\n",
    "    return tokenizer(samples['text'], padding=\"max_length\", truncation=True, max_length=512)\n",
    "\n",
    "tokenized_all_ds = all_ds.map(tokenizer_function, batched=True)"
   ]
  },
  {
   "cell_type": "code",
   "execution_count": 204,
   "metadata": {},
   "outputs": [
    {
     "name": "stderr",
     "output_type": "stream",
     "text": [
      "loading configuration file https://huggingface.co/dmis-lab/biobert-base-cased-v1.2/resolve/main/config.json from cache at C:\\Users\\maxim/.cache\\huggingface\\transformers\\ece5e89bab3b63a40e413c7f599e6081663cad06eb394e48d5023930733d15a3.ad895c9bc4687ffedea1a4cc498ac3f67ebd2083732981c2a06f548cde7d6582\n",
      "Model config BertConfig {\n",
      "  \"architectures\": [\n",
      "    \"BertForMaskedLM\"\n",
      "  ],\n",
      "  \"attention_probs_dropout_prob\": 0.1,\n",
      "  \"classifier_dropout\": null,\n",
      "  \"hidden_act\": \"gelu\",\n",
      "  \"hidden_dropout_prob\": 0.1,\n",
      "  \"hidden_size\": 768,\n",
      "  \"initializer_range\": 0.02,\n",
      "  \"intermediate_size\": 3072,\n",
      "  \"layer_norm_eps\": 1e-12,\n",
      "  \"max_position_embeddings\": 512,\n",
      "  \"model_type\": \"bert\",\n",
      "  \"num_attention_heads\": 12,\n",
      "  \"num_hidden_layers\": 12,\n",
      "  \"pad_token_id\": 0,\n",
      "  \"position_embedding_type\": \"absolute\",\n",
      "  \"transformers_version\": \"4.12.5\",\n",
      "  \"type_vocab_size\": 2,\n",
      "  \"use_cache\": true,\n",
      "  \"vocab_size\": 28996\n",
      "}\n",
      "\n",
      "loading weights file https://huggingface.co/dmis-lab/biobert-base-cased-v1.2/resolve/main/pytorch_model.bin from cache at C:\\Users\\maxim/.cache\\huggingface\\transformers\\1414d44e1692194ad8c160a4bc51d9bd98da5365a8c08e5182731cf84eb134f5.02df0b4a307fbaed7d1fe54d7b95b850ac1f31e1331142c3da71b82b0d48f77d\n",
      "Some weights of the model checkpoint at dmis-lab/biobert-base-cased-v1.2 were not used when initializing BertForSequenceClassification: ['cls.predictions.transform.LayerNorm.bias', 'cls.predictions.bias', 'cls.predictions.transform.dense.weight', 'cls.predictions.transform.dense.bias', 'cls.seq_relationship.weight', 'cls.predictions.decoder.weight', 'cls.predictions.transform.LayerNorm.weight', 'cls.seq_relationship.bias', 'cls.predictions.decoder.bias']\n",
      "- This IS expected if you are initializing BertForSequenceClassification from the checkpoint of a model trained on another task or with another architecture (e.g. initializing a BertForSequenceClassification model from a BertForPreTraining model).\n",
      "- This IS NOT expected if you are initializing BertForSequenceClassification from the checkpoint of a model that you expect to be exactly identical (initializing a BertForSequenceClassification model from a BertForSequenceClassification model).\n",
      "Some weights of BertForSequenceClassification were not initialized from the model checkpoint at dmis-lab/biobert-base-cased-v1.2 and are newly initialized: ['classifier.bias', 'classifier.weight']\n",
      "You should probably TRAIN this model on a down-stream task to be able to use it for predictions and inference.\n",
      "PyTorch: setting up devices\n",
      "The default value for the training argument `--report_to` will change in v5 (from all installed integrations to none). In v5, you will need to use `--report_to all` to get the same behavior as now. You should start updating your code and make this info disappear :-).\n",
      "The following columns in the training set  don't have a corresponding argument in `BertForSequenceClassification.forward` and have been ignored: text.\n",
      "***** Running training *****\n",
      "  Num examples = 3133\n",
      "  Num Epochs = 4\n",
      "  Instantaneous batch size per device = 8\n",
      "  Total train batch size (w. parallel, distributed & accumulation) = 8\n",
      "  Gradient Accumulation steps = 1\n",
      "  Total optimization steps = 1568\n",
      " 32%|███▏      | 500/1568 [03:18<07:04,  2.52it/s]Saving model checkpoint to ./models/production_models/inclusion_biobert/v0.1\\checkpoint-500\n",
      "Configuration saved in ./models/production_models/inclusion_biobert/v0.1\\checkpoint-500\\config.json\n",
      "Model weights saved in ./models/production_models/inclusion_biobert/v0.1\\checkpoint-500\\pytorch_model.bin\n",
      " 64%|██████▍   | 1000/1568 [06:39<03:45,  2.52it/s]Saving model checkpoint to ./models/production_models/inclusion_biobert/v0.1\\checkpoint-1000\n",
      "Configuration saved in ./models/production_models/inclusion_biobert/v0.1\\checkpoint-1000\\config.json\n",
      "Model weights saved in ./models/production_models/inclusion_biobert/v0.1\\checkpoint-1000\\pytorch_model.bin\n",
      " 96%|█████████▌| 1500/1568 [09:59<00:26,  2.53it/s]Saving model checkpoint to ./models/production_models/inclusion_biobert/v0.1\\checkpoint-1500\n",
      "Configuration saved in ./models/production_models/inclusion_biobert/v0.1\\checkpoint-1500\\config.json\n",
      "Model weights saved in ./models/production_models/inclusion_biobert/v0.1\\checkpoint-1500\\pytorch_model.bin\n",
      "100%|██████████| 1568/1568 [10:29<00:00,  2.79it/s]\n",
      "\n",
      "Training completed. Do not forget to share your model on huggingface.co/models =)\n",
      "\n",
      "\n",
      "100%|██████████| 1568/1568 [10:29<00:00,  2.49it/s]\n",
      "Saving model checkpoint to ./models/production_models/inclusion_biobert/v0.1\n",
      "Configuration saved in ./models/production_models/inclusion_biobert/v0.1\\config.json\n"
     ]
    },
    {
     "name": "stdout",
     "output_type": "stream",
     "text": [
      "{'train_runtime': 629.5655, 'train_samples_per_second': 19.906, 'train_steps_per_second': 2.491, 'train_loss': 0.11029928557726802, 'epoch': 4.0}\n"
     ]
    },
    {
     "name": "stderr",
     "output_type": "stream",
     "text": [
      "Model weights saved in ./models/production_models/inclusion_biobert/v0.1\\pytorch_model.bin\n"
     ]
    }
   ],
   "source": [
    "model_version = '0.1'\n",
    "model = AutoModelForSequenceClassification.from_pretrained('dmis-lab/biobert-base-cased-v1.2', num_labels=2)\n",
    "training_args = TrainingArguments(filepath + '/models/production_models/inclusion_biobert/v{}'.format(model_version), evaluation_strategy='no', logging_strategy='no', learning_rate=1e-5, num_train_epochs=4)\n",
    "trainer = Trainer(model=model, args=training_args, compute_metrics=compute_single_label_metrics, train_dataset=tokenized_datasets['train_val'])\n",
    "trainer.train()\n",
    "trainer.save_model(filepath + '/models/production_models/inclusion_biobert/v{}'.format(model_version))"
   ]
  }
 ],
 "metadata": {
  "kernelspec": {
   "display_name": "Python 3.9.7 ('impact')",
   "language": "python",
   "name": "python3"
  },
  "language_info": {
   "codemirror_mode": {
    "name": "ipython",
    "version": 3
   },
   "file_extension": ".py",
   "mimetype": "text/x-python",
   "name": "python",
   "nbconvert_exporter": "python",
   "pygments_lexer": "ipython3",
   "version": "3.9.7"
  },
  "orig_nbformat": 4,
  "vscode": {
   "interpreter": {
    "hash": "b865e41611128619125efb3de810fd1945d838f9916dd1a16e8a8b77ba5194d7"
   }
  }
 },
 "nbformat": 4,
 "nbformat_minor": 2
}
