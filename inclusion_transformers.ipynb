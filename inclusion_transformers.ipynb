{
 "cells": [
  {
   "cell_type": "code",
   "execution_count": 1,
   "metadata": {},
   "outputs": [],
   "source": [
    "import numpy as np\n",
    "import pandas as pd\n",
    "import pickle\n",
    "import scipy as sp\n",
    "import shap\n",
    "import torch\n",
    "\n",
    "from datasets import Dataset, DatasetDict\n",
    "from matplotlib import pyplot as plt\n",
    "from sklearn.metrics import accuracy_score, f1_score, precision_recall_curve, PrecisionRecallDisplay, precision_score, recall_score\n",
    "from sklearn.model_selection import train_test_split, KFold\n",
    "from tqdm.notebook import trange\n",
    "from ray import tune\n",
    "from transformers import AutoTokenizer, AutoModelForSequenceClassification, TextClassificationPipeline, TrainingArguments, Trainer"
   ]
  },
  {
   "cell_type": "code",
   "execution_count": 2,
   "metadata": {},
   "outputs": [],
   "source": [
    "### YOUR PATH HERE\n",
    "filepath = '.'"
   ]
  },
  {
   "cell_type": "markdown",
   "metadata": {},
   "source": [
    "# Import the dataset"
   ]
  },
  {
   "cell_type": "code",
   "execution_count": 3,
   "metadata": {},
   "outputs": [
    {
     "name": "stdout",
     "output_type": "stream",
     "text": [
      "Number of samples in all df: 3933, Number of samples in test df: 800, Number of samples in train_val df: 3133\n"
     ]
    }
   ],
   "source": [
    "df = pd.read_csv(filepath + '/data/second_gen/ratings.csv')[1:].fillna('')\n",
    "df['labels'] = df.apply(lambda x: x['rating_consensus'] if x['rating_consensus'] != '' else x['rating1'] if ((x['rating1'] == x['rating2']) and (x['consensus_reason'] == '') and (x['rating1'] != '')) else 'error', axis=1)\n",
    "test_df = df[-800:]\n",
    "train_val_df = df[:-800]\n",
    "print('Number of samples in all df: {}, Number of samples in test df: {}, Number of samples in train_val df: {}'.format(len(df),len(test_df), len(train_val_df)))"
   ]
  },
  {
   "cell_type": "code",
   "execution_count": 6,
   "metadata": {},
   "outputs": [
    {
     "name": "stdout",
     "output_type": "stream",
     "text": [
      "Length of train set: 2506\n",
      "Length of val set: 627\n",
      "Number of included in train set: 181.0 for ratio: 0.072\n",
      "Number of included in val set: 40.0 for ratio: 0.064\n"
     ]
    }
   ],
   "source": [
    "train_df, val_df = train_test_split (train_val_df, test_size=0.2)\n",
    "\n",
    "print('Length of train set: {}'.format(len(train_df)))\n",
    "print('Length of val set: {}'.format(len(val_df)))\n",
    "print('Number of included in train set: {} for ratio: {:.3f}'.format(train_df['labels'].sum(), train_df['labels'].sum()/len(train_df)))\n",
    "print('Number of included in val set: {} for ratio: {:.3f}'.format(val_df['labels'].sum(), val_df['labels'].sum()/len(val_df)))"
   ]
  },
  {
   "cell_type": "code",
   "execution_count": 7,
   "metadata": {},
   "outputs": [],
   "source": [
    "df_columns_to_keep = ['text', 'labels']\n",
    "train_val_df = train_val_df[df_columns_to_keep]\n",
    "train_df = train_df[df_columns_to_keep]\n",
    "val_df = val_df[df_columns_to_keep]\n",
    "test_df = test_df[df_columns_to_keep]"
   ]
  },
  {
   "cell_type": "code",
   "execution_count": 6,
   "metadata": {},
   "outputs": [],
   "source": [
    "train_val_ds = Dataset.from_pandas(train_val_df)\n",
    "train_ds = Dataset.from_pandas(train_df)\n",
    "val_ds = Dataset.from_pandas(val_df)\n",
    "test_ds = Dataset.from_pandas(test_df)\n",
    "\n",
    "ds = DatasetDict()\n",
    "ds['train_val'] = train_val_ds\n",
    "ds['train'] = train_ds\n",
    "ds['val'] = val_ds\n",
    "ds['test'] = test_ds"
   ]
  },
  {
   "cell_type": "code",
   "execution_count": 7,
   "metadata": {},
   "outputs": [
    {
     "data": {
      "text/plain": [
       "0"
      ]
     },
     "execution_count": 7,
     "metadata": {},
     "output_type": "execute_result"
    }
   ],
   "source": [
    "ds.cleanup_cache_files()\n",
    "test_ds.cleanup_cache_files()"
   ]
  },
  {
   "cell_type": "code",
   "execution_count": 8,
   "metadata": {},
   "outputs": [
    {
     "name": "stderr",
     "output_type": "stream",
     "text": [
      "Stringifying the column: 100%|██████████| 4/4 [00:00<00:00, 1332.69ba/s]\n",
      "Casting to class labels: 100%|██████████| 4/4 [00:00<00:00, 998.94ba/s]\n",
      "Casting the dataset: 100%|██████████| 1/1 [00:00<00:00, 83.26ba/s]\n",
      "Stringifying the column: 100%|██████████| 3/3 [00:00<00:00, 1498.68ba/s]\n",
      "Casting to class labels: 100%|██████████| 3/3 [00:00<00:00, 999.04ba/s]\n",
      "Casting the dataset: 100%|██████████| 1/1 [00:00<00:00, 124.88ba/s]\n",
      "Stringifying the column: 100%|██████████| 1/1 [00:00<00:00, 998.17ba/s]\n",
      "Casting to class labels: 100%|██████████| 1/1 [00:00<00:00, 999.12ba/s]\n",
      "Casting the dataset: 100%|██████████| 1/1 [00:00<00:00, 499.74ba/s]\n",
      "Stringifying the column: 100%|██████████| 1/1 [00:00<00:00, 499.62ba/s]\n",
      "Casting to class labels: 100%|██████████| 1/1 [00:00<00:00, 998.64ba/s]\n",
      "Casting the dataset: 100%|██████████| 1/1 [00:00<00:00, 499.74ba/s]\n"
     ]
    }
   ],
   "source": [
    "ds = ds.class_encode_column('labels')"
   ]
  },
  {
   "cell_type": "markdown",
   "metadata": {},
   "source": [
    "# Model"
   ]
  },
  {
   "cell_type": "code",
   "execution_count": 9,
   "metadata": {},
   "outputs": [],
   "source": [
    "tokenizer = AutoTokenizer.from_pretrained('dmis-lab/biobert-base-cased-v1.2')"
   ]
  },
  {
   "cell_type": "code",
   "execution_count": 10,
   "metadata": {},
   "outputs": [
    {
     "name": "stderr",
     "output_type": "stream",
     "text": [
      "100%|██████████| 4/4 [00:00<00:00,  7.29ba/s]\n",
      "100%|██████████| 3/3 [00:00<00:00,  6.91ba/s]\n",
      "100%|██████████| 1/1 [00:00<00:00,  8.90ba/s]\n",
      "100%|██████████| 1/1 [00:00<00:00,  6.75ba/s]\n"
     ]
    }
   ],
   "source": [
    "def tokenizer_function(samples):\n",
    "    return tokenizer(samples['text'], padding=\"max_length\", truncation=True, max_length=512)\n",
    "\n",
    "tokenized_datasets = ds.map(tokenizer_function, batched=True)"
   ]
  },
  {
   "cell_type": "code",
   "execution_count": 11,
   "metadata": {},
   "outputs": [],
   "source": [
    "def compute_single_label_metrics(eval_pred):\n",
    "    logits, labels = eval_pred\n",
    "    predictions = np.argmax(logits, axis=1)\n",
    "    metrics = {'accuracy':accuracy_score(labels, predictions), 'f1':f1_score(labels, predictions), 'precision':precision_score(labels, predictions), 'recall':recall_score(labels, predictions)}\n",
    "    return metrics"
   ]
  },
  {
   "cell_type": "markdown",
   "metadata": {},
   "source": [
    "## HP search"
   ]
  },
  {
   "cell_type": "code",
   "execution_count": null,
   "metadata": {},
   "outputs": [],
   "source": [
    "def model_init():\n",
    "    return AutoModelForSequenceClassification.from_pretrained('dmis-lab/biobert-base-cased-v1.2', num_labels=2)\n",
    "\n",
    "hp_space = {\n",
    "    'learning_rate':tune.choice([5e-5, 2e-5, 1e-5, 8e-6, 5e-6, 2e-6, 1e-6]),\n",
    "    'num_train_epochs':tune.choice([1,2,3,4,5,6]),\n",
    "    'per_device_train_batch_size':8\n",
    "}\n",
    "training_args = TrainingArguments(filepath + '/results/inclusion/run1', evaluation_strategy='epoch', save_strategy='no', disable_tqdm=True)\n",
    "trainer = Trainer(model_init=model_init, args=training_args, compute_metrics=compute_single_label_metrics, train_dataset=tokenized_datasets['train'], eval_dataset=tokenized_datasets['val'])\n",
    "best_model = trainer.hyperparameter_search(hp_space=lambda _: hp_space, direction='maximize', n_trials=40, local_dir=filepath + '/results/inclusion/run1')"
   ]
  },
  {
   "cell_type": "code",
   "execution_count": null,
   "metadata": {},
   "outputs": [],
   "source": [
    "def model_init():\n",
    "    return AutoModelForSequenceClassification.from_pretrained('dmis-lab/biobert-base-cased-v1.2', num_labels=2)\n",
    "\n",
    "hp_space = {\n",
    "    'learning_rate':tune.choice([3e-5, 2e-5, 1.2e-5, 1e-5, 8e-6]),\n",
    "    'num_train_epochs':tune.choice([1,2,3,4,6,8,10]),\n",
    "    'per_device_train_batch_size':8\n",
    "}\n",
    "training_args = TrainingArguments(filepath + '/results/inclusion/run2', evaluation_strategy='epoch', save_strategy='no', disable_tqdm=True)\n",
    "trainer = Trainer(model_init=model_init, args=training_args, compute_metrics=compute_single_label_metrics, train_dataset=tokenized_datasets['train'], eval_dataset=tokenized_datasets['val'])\n",
    "best_model = trainer.hyperparameter_search(hp_space=lambda _: hp_space, direction='maximize', n_trials=40, local_dir=filepath + '/results/inclusion/transformers_hp_search/ray')"
   ]
  },
  {
   "cell_type": "code",
   "execution_count": null,
   "metadata": {},
   "outputs": [],
   "source": [
    "def model_init():\n",
    "    return AutoModelForSequenceClassification.from_pretrained('dmis-lab/biobert-base-cased-v1.2', num_labels=2)\n",
    "\n",
    "hp_space = {\n",
    "    'learning_rate':tune.choice([3e-5, 2e-5, 1.2e-5, 1e-5, 8e-6]),\n",
    "    'num_train_epochs':tune.choice([1,2,3,4,6,8,10]),\n",
    "    'per_device_train_batch_size':8\n",
    "}\n",
    "training_args = TrainingArguments(filepath + '/results/inclusion/run2', evaluation_strategy='epoch', save_strategy='no', disable_tqdm=True)\n",
    "trainer = Trainer(model_init=model_init, args=training_args, compute_metrics=compute_single_label_metrics, train_dataset=tokenized_datasets['train'], eval_dataset=tokenized_datasets['val'])\n",
    "best_model = trainer.hyperparameter_search(hp_space=lambda _: hp_space, direction='maximize', n_trials=40, local_dir=filepath + '/results/inclusion/run2')"
   ]
  },
  {
   "cell_type": "code",
   "execution_count": null,
   "metadata": {},
   "outputs": [],
   "source": [
    "def model_init():\n",
    "    return AutoModelForSequenceClassification.from_pretrained('dmis-lab/biobert-base-cased-v1.2', num_labels=2)\n",
    "\n",
    "hp_space = {\n",
    "    'learning_rate':tune.choice([1.5e-5, 1.2e-5, 1e-5]),\n",
    "    'num_train_epochs':tune.choice([10]),\n",
    "    'per_device_train_batch_size':8\n",
    "}\n",
    "training_args = TrainingArguments(filepath + '/results/inclusion/run3', evaluation_strategy='epoch', save_strategy='no', disable_tqdm=True)\n",
    "trainer = Trainer(model_init=model_init, args=training_args, compute_metrics=compute_single_label_metrics, train_dataset=tokenized_datasets['train'], eval_dataset=tokenized_datasets['val'])\n",
    "best_model = trainer.hyperparameter_search(hp_space=lambda _: hp_space, direction='maximize', n_trials=40, local_dir=filepath + '/results/inclusion/run3')"
   ]
  },
  {
   "cell_type": "markdown",
   "metadata": {},
   "source": [
    "### Train test eval model"
   ]
  },
  {
   "cell_type": "code",
   "execution_count": 12,
   "metadata": {},
   "outputs": [
    {
     "name": "stderr",
     "output_type": "stream",
     "text": [
      "Some weights of the model checkpoint at dmis-lab/biobert-base-cased-v1.2 were not used when initializing BertForSequenceClassification: ['cls.seq_relationship.weight', 'cls.predictions.transform.LayerNorm.bias', 'cls.predictions.bias', 'cls.predictions.transform.dense.bias', 'cls.predictions.decoder.bias', 'cls.predictions.decoder.weight', 'cls.seq_relationship.bias', 'cls.predictions.transform.dense.weight', 'cls.predictions.transform.LayerNorm.weight']\n",
      "- This IS expected if you are initializing BertForSequenceClassification from the checkpoint of a model trained on another task or with another architecture (e.g. initializing a BertForSequenceClassification model from a BertForPreTraining model).\n",
      "- This IS NOT expected if you are initializing BertForSequenceClassification from the checkpoint of a model that you expect to be exactly identical (initializing a BertForSequenceClassification model from a BertForSequenceClassification model).\n",
      "Some weights of BertForSequenceClassification were not initialized from the model checkpoint at dmis-lab/biobert-base-cased-v1.2 and are newly initialized: ['classifier.bias', 'classifier.weight']\n",
      "You should probably TRAIN this model on a down-stream task to be able to use it for predictions and inference.\n",
      "The following columns in the training set  don't have a corresponding argument in `BertForSequenceClassification.forward` and have been ignored: text.\n",
      "***** Running training *****\n",
      "  Num examples = 3133\n",
      "  Num Epochs = 4\n",
      "  Instantaneous batch size per device = 8\n",
      "  Total train batch size (w. parallel, distributed & accumulation) = 8\n",
      "  Gradient Accumulation steps = 1\n",
      "  Total optimization steps = 1568\n",
      " 32%|███▏      | 500/1568 [03:19<07:01,  2.54it/s]Saving model checkpoint to ./models/test_set_eval_models/inclusion_biobert\\checkpoint-500\n",
      "Configuration saved in ./models/test_set_eval_models/inclusion_biobert\\checkpoint-500\\config.json\n",
      "Model weights saved in ./models/test_set_eval_models/inclusion_biobert\\checkpoint-500\\pytorch_model.bin\n",
      " 64%|██████▍   | 1000/1568 [06:40<03:45,  2.51it/s]Saving model checkpoint to ./models/test_set_eval_models/inclusion_biobert\\checkpoint-1000\n",
      "Configuration saved in ./models/test_set_eval_models/inclusion_biobert\\checkpoint-1000\\config.json\n",
      "Model weights saved in ./models/test_set_eval_models/inclusion_biobert\\checkpoint-1000\\pytorch_model.bin\n",
      " 96%|█████████▌| 1500/1568 [10:01<00:27,  2.52it/s]Saving model checkpoint to ./models/test_set_eval_models/inclusion_biobert\\checkpoint-1500\n",
      "Configuration saved in ./models/test_set_eval_models/inclusion_biobert\\checkpoint-1500\\config.json\n",
      "Model weights saved in ./models/test_set_eval_models/inclusion_biobert\\checkpoint-1500\\pytorch_model.bin\n",
      "100%|██████████| 1568/1568 [10:31<00:00,  2.80it/s]\n",
      "\n",
      "Training completed. Do not forget to share your model on huggingface.co/models =)\n",
      "\n",
      "\n",
      "100%|██████████| 1568/1568 [10:31<00:00,  2.48it/s]\n",
      "Saving model checkpoint to ./models/test_set_eval_models/inclusion_biobert/model\n",
      "Configuration saved in ./models/test_set_eval_models/inclusion_biobert/model\\config.json\n"
     ]
    },
    {
     "name": "stdout",
     "output_type": "stream",
     "text": [
      "{'train_runtime': 631.78, 'train_samples_per_second': 19.836, 'train_steps_per_second': 2.482, 'train_loss': 0.11861412865774972, 'epoch': 4.0}\n"
     ]
    },
    {
     "name": "stderr",
     "output_type": "stream",
     "text": [
      "Model weights saved in ./models/test_set_eval_models/inclusion_biobert/model\\pytorch_model.bin\n"
     ]
    }
   ],
   "source": [
    "model = AutoModelForSequenceClassification.from_pretrained('dmis-lab/biobert-base-cased-v1.2', num_labels=2)\n",
    "training_args = TrainingArguments(filepath + '/models/test_set_eval_models/inclusion_biobert', evaluation_strategy='no', logging_strategy='no', learning_rate=1e-5, num_train_epochs=4)\n",
    "trainer = Trainer(model=model, args=training_args, compute_metrics=compute_single_label_metrics, train_dataset=tokenized_datasets['train_val'])\n",
    "trainer.train()\n",
    "trainer.save_model(filepath + '/models/test_set_eval_models/inclusion_biobert/model')"
   ]
  },
  {
   "cell_type": "code",
   "execution_count": 13,
   "metadata": {},
   "outputs": [
    {
     "name": "stderr",
     "output_type": "stream",
     "text": [
      "The following columns in the evaluation set  don't have a corresponding argument in `BertForSequenceClassification.forward` and have been ignored: text.\n",
      "***** Running Evaluation *****\n",
      "  Num examples = 800\n",
      "  Batch size = 8\n",
      "100%|██████████| 100/100 [00:12<00:00,  7.98it/s]\n"
     ]
    },
    {
     "data": {
      "text/plain": [
       "{'eval_loss': 0.13802237808704376,\n",
       " 'eval_accuracy': 0.965,\n",
       " 'eval_f1': 0.7543859649122806,\n",
       " 'eval_precision': 0.7166666666666667,\n",
       " 'eval_recall': 0.7962962962962963,\n",
       " 'eval_runtime': 12.7616,\n",
       " 'eval_samples_per_second': 62.688,\n",
       " 'eval_steps_per_second': 7.836,\n",
       " 'epoch': 4.0}"
      ]
     },
     "execution_count": 13,
     "metadata": {},
     "output_type": "execute_result"
    }
   ],
   "source": [
    "trainer.evaluate(eval_dataset=tokenized_datasets['test'])"
   ]
  },
  {
   "cell_type": "markdown",
   "metadata": {},
   "source": [
    "# Determine thresholds to automatically exclude papers\n",
    "Goal: Recall = 1"
   ]
  },
  {
   "cell_type": "code",
   "execution_count": 12,
   "metadata": {},
   "outputs": [],
   "source": [
    "all_df = df[df_columns_to_keep]\n",
    "tokenizer = AutoTokenizer.from_pretrained('dmis-lab/biobert-base-cased-v1.2')\n",
    "tokenizer_kwargs = {'padding':True,'truncation':True,'max_length':512}\n",
    "\n",
    "def tokenizer_function(samples):\n",
    "    return tokenizer(samples['text'], padding=\"max_length\", truncation=True, max_length=512)"
   ]
  },
  {
   "cell_type": "code",
   "execution_count": 27,
   "metadata": {},
   "outputs": [
    {
     "name": "stdout",
     "output_type": "stream",
     "text": [
      "                                                text  labels\n",
      "1  The utility of Conversation Analysis versus Ro...     0.0\n",
      "2  Leveraging the pharmacy executive beyond the p...     0.0\n",
      "3  The utilization of simulated patients for teac...     0.0\n",
      "4  Implementing an Antimicrobial Stewardship Prog...     0.0\n",
      "5  Exploration of pharmacist comfort with harm re...     0.0\n",
      "                                                 text  labels\n",
      "7   Pharmacists' Perceptions of Handling Antimicro...     0.0\n",
      "9   Development and Implementation of In-House Pha...     0.0\n",
      "13  Implementing a personalized pharmaceutical pla...     0.0\n",
      "15  Identifying COVID-19 and H1N1 vaccination hesi...     0.0\n",
      "18  A pharmacist-led intervention to improve the m...     0.0\n"
     ]
    },
    {
     "name": "stderr",
     "output_type": "stream",
     "text": [
      "Stringifying the column: 100%|██████████| 4/4 [00:00<00:00, 1331.95ba/s]\n",
      "Casting to class labels: 100%|██████████| 4/4 [00:00<00:00, 1332.48ba/s]\n",
      "Casting the dataset: 100%|██████████| 1/1 [00:00<00:00, 111.02ba/s]\n",
      "100%|██████████| 4/4 [00:00<00:00,  6.40ba/s]\n",
      "loading configuration file https://huggingface.co/dmis-lab/biobert-base-cased-v1.2/resolve/main/config.json from cache at C:\\Users\\maxim/.cache\\huggingface\\transformers\\ece5e89bab3b63a40e413c7f599e6081663cad06eb394e48d5023930733d15a3.ad895c9bc4687ffedea1a4cc498ac3f67ebd2083732981c2a06f548cde7d6582\n",
      "Model config BertConfig {\n",
      "  \"architectures\": [\n",
      "    \"BertForMaskedLM\"\n",
      "  ],\n",
      "  \"attention_probs_dropout_prob\": 0.1,\n",
      "  \"classifier_dropout\": null,\n",
      "  \"hidden_act\": \"gelu\",\n",
      "  \"hidden_dropout_prob\": 0.1,\n",
      "  \"hidden_size\": 768,\n",
      "  \"initializer_range\": 0.02,\n",
      "  \"intermediate_size\": 3072,\n",
      "  \"layer_norm_eps\": 1e-12,\n",
      "  \"max_position_embeddings\": 512,\n",
      "  \"model_type\": \"bert\",\n",
      "  \"num_attention_heads\": 12,\n",
      "  \"num_hidden_layers\": 12,\n",
      "  \"pad_token_id\": 0,\n",
      "  \"position_embedding_type\": \"absolute\",\n",
      "  \"transformers_version\": \"4.12.5\",\n",
      "  \"type_vocab_size\": 2,\n",
      "  \"use_cache\": true,\n",
      "  \"vocab_size\": 28996\n",
      "}\n",
      "\n",
      "loading weights file https://huggingface.co/dmis-lab/biobert-base-cased-v1.2/resolve/main/pytorch_model.bin from cache at C:\\Users\\maxim/.cache\\huggingface\\transformers\\1414d44e1692194ad8c160a4bc51d9bd98da5365a8c08e5182731cf84eb134f5.02df0b4a307fbaed7d1fe54d7b95b850ac1f31e1331142c3da71b82b0d48f77d\n",
      "Some weights of the model checkpoint at dmis-lab/biobert-base-cased-v1.2 were not used when initializing BertForSequenceClassification: ['cls.predictions.transform.LayerNorm.weight', 'cls.predictions.transform.dense.weight', 'cls.predictions.transform.LayerNorm.bias', 'cls.predictions.decoder.bias', 'cls.seq_relationship.bias', 'cls.predictions.bias', 'cls.predictions.decoder.weight', 'cls.predictions.transform.dense.bias', 'cls.seq_relationship.weight']\n",
      "- This IS expected if you are initializing BertForSequenceClassification from the checkpoint of a model trained on another task or with another architecture (e.g. initializing a BertForSequenceClassification model from a BertForPreTraining model).\n",
      "- This IS NOT expected if you are initializing BertForSequenceClassification from the checkpoint of a model that you expect to be exactly identical (initializing a BertForSequenceClassification model from a BertForSequenceClassification model).\n",
      "Some weights of BertForSequenceClassification were not initialized from the model checkpoint at dmis-lab/biobert-base-cased-v1.2 and are newly initialized: ['classifier.bias', 'classifier.weight']\n",
      "You should probably TRAIN this model on a down-stream task to be able to use it for predictions and inference.\n",
      "PyTorch: setting up devices\n",
      "The default value for the training argument `--report_to` will change in v5 (from all installed integrations to none). In v5, you will need to use `--report_to all` to get the same behavior as now. You should start updating your code and make this info disappear :-).\n",
      "The following columns in the training set  don't have a corresponding argument in `BertForSequenceClassification.forward` and have been ignored: __index_level_0__, text.\n",
      "***** Running training *****\n",
      "  Num examples = 3146\n",
      "  Num Epochs = 4\n",
      "  Instantaneous batch size per device = 8\n",
      "  Total train batch size (w. parallel, distributed & accumulation) = 8\n",
      "  Gradient Accumulation steps = 1\n",
      "  Total optimization steps = 1576\n",
      "100%|██████████| 1576/1576 [10:27<00:00,  3.13it/s]\n",
      "\n",
      "Training completed. Do not forget to share your model on huggingface.co/models =)\n",
      "\n",
      "\n",
      "100%|██████████| 1576/1576 [10:28<00:00,  2.51it/s]"
     ]
    },
    {
     "name": "stdout",
     "output_type": "stream",
     "text": [
      "{'train_runtime': 628.0932, 'train_samples_per_second': 20.035, 'train_steps_per_second': 2.509, 'train_loss': 0.09697672074216271, 'epoch': 4.0}\n"
     ]
    },
    {
     "name": "stderr",
     "output_type": "stream",
     "text": [
      "\n"
     ]
    },
    {
     "data": {
      "application/vnd.jupyter.widget-view+json": {
       "model_id": "a1df913fa1084452842d7738461a057d",
       "version_major": 2,
       "version_minor": 0
      },
      "text/plain": [
       "  0%|          | 0/787 [00:00<?, ?it/s]"
      ]
     },
     "metadata": {},
     "output_type": "display_data"
    },
    {
     "name": "stderr",
     "output_type": "stream",
     "text": [
      "You seem to be using the pipelines sequentially on GPU. In order to maximize efficiency please use a dataset\n"
     ]
    },
    {
     "name": "stdout",
     "output_type": "stream",
     "text": [
      "                                                text  labels\n",
      "2  Leveraging the pharmacy executive beyond the p...     0.0\n",
      "3  The utilization of simulated patients for teac...     0.0\n",
      "4  Implementing an Antimicrobial Stewardship Prog...     0.0\n",
      "5  Exploration of pharmacist comfort with harm re...     0.0\n",
      "6  Challenges for Polish Community Pharmacists in...     0.0\n",
      "                                                 text  labels\n",
      "1   The utility of Conversation Analysis versus Ro...     0.0\n",
      "8   Metabolic Activation of the Toxic Natural Prod...     0.0\n",
      "23  Comparison of Interventions Made in an Ambulat...     1.0\n",
      "26  Determination of the Optimal Procalcitonin Thr...     0.0\n",
      "32  Utilization of Technology to Improve Efficienc...     0.0\n"
     ]
    },
    {
     "name": "stderr",
     "output_type": "stream",
     "text": [
      "Stringifying the column: 100%|██████████| 4/4 [00:00<00:00, 1332.16ba/s]\n",
      "Casting to class labels: 100%|██████████| 4/4 [00:00<00:00, 999.18ba/s]\n",
      "Casting the dataset: 100%|██████████| 1/1 [00:00<00:00, 124.89ba/s]\n",
      "100%|██████████| 4/4 [00:00<00:00,  6.56ba/s]\n",
      "loading configuration file https://huggingface.co/dmis-lab/biobert-base-cased-v1.2/resolve/main/config.json from cache at C:\\Users\\maxim/.cache\\huggingface\\transformers\\ece5e89bab3b63a40e413c7f599e6081663cad06eb394e48d5023930733d15a3.ad895c9bc4687ffedea1a4cc498ac3f67ebd2083732981c2a06f548cde7d6582\n",
      "Model config BertConfig {\n",
      "  \"architectures\": [\n",
      "    \"BertForMaskedLM\"\n",
      "  ],\n",
      "  \"attention_probs_dropout_prob\": 0.1,\n",
      "  \"classifier_dropout\": null,\n",
      "  \"hidden_act\": \"gelu\",\n",
      "  \"hidden_dropout_prob\": 0.1,\n",
      "  \"hidden_size\": 768,\n",
      "  \"initializer_range\": 0.02,\n",
      "  \"intermediate_size\": 3072,\n",
      "  \"layer_norm_eps\": 1e-12,\n",
      "  \"max_position_embeddings\": 512,\n",
      "  \"model_type\": \"bert\",\n",
      "  \"num_attention_heads\": 12,\n",
      "  \"num_hidden_layers\": 12,\n",
      "  \"pad_token_id\": 0,\n",
      "  \"position_embedding_type\": \"absolute\",\n",
      "  \"transformers_version\": \"4.12.5\",\n",
      "  \"type_vocab_size\": 2,\n",
      "  \"use_cache\": true,\n",
      "  \"vocab_size\": 28996\n",
      "}\n",
      "\n",
      "loading weights file https://huggingface.co/dmis-lab/biobert-base-cased-v1.2/resolve/main/pytorch_model.bin from cache at C:\\Users\\maxim/.cache\\huggingface\\transformers\\1414d44e1692194ad8c160a4bc51d9bd98da5365a8c08e5182731cf84eb134f5.02df0b4a307fbaed7d1fe54d7b95b850ac1f31e1331142c3da71b82b0d48f77d\n",
      "Some weights of the model checkpoint at dmis-lab/biobert-base-cased-v1.2 were not used when initializing BertForSequenceClassification: ['cls.predictions.transform.LayerNorm.weight', 'cls.predictions.transform.dense.weight', 'cls.predictions.transform.LayerNorm.bias', 'cls.predictions.decoder.bias', 'cls.seq_relationship.bias', 'cls.predictions.bias', 'cls.predictions.decoder.weight', 'cls.predictions.transform.dense.bias', 'cls.seq_relationship.weight']\n",
      "- This IS expected if you are initializing BertForSequenceClassification from the checkpoint of a model trained on another task or with another architecture (e.g. initializing a BertForSequenceClassification model from a BertForPreTraining model).\n",
      "- This IS NOT expected if you are initializing BertForSequenceClassification from the checkpoint of a model that you expect to be exactly identical (initializing a BertForSequenceClassification model from a BertForSequenceClassification model).\n",
      "Some weights of BertForSequenceClassification were not initialized from the model checkpoint at dmis-lab/biobert-base-cased-v1.2 and are newly initialized: ['classifier.bias', 'classifier.weight']\n",
      "You should probably TRAIN this model on a down-stream task to be able to use it for predictions and inference.\n",
      "PyTorch: setting up devices\n",
      "The default value for the training argument `--report_to` will change in v5 (from all installed integrations to none). In v5, you will need to use `--report_to all` to get the same behavior as now. You should start updating your code and make this info disappear :-).\n",
      "The following columns in the training set  don't have a corresponding argument in `BertForSequenceClassification.forward` and have been ignored: __index_level_0__, text.\n",
      "***** Running training *****\n",
      "  Num examples = 3146\n",
      "  Num Epochs = 4\n",
      "  Instantaneous batch size per device = 8\n",
      "  Total train batch size (w. parallel, distributed & accumulation) = 8\n",
      "  Gradient Accumulation steps = 1\n",
      "  Total optimization steps = 1576\n",
      "100%|██████████| 1576/1576 [10:18<00:00,  3.10it/s]\n",
      "\n",
      "Training completed. Do not forget to share your model on huggingface.co/models =)\n",
      "\n",
      "\n",
      "100%|██████████| 1576/1576 [10:18<00:00,  2.55it/s]"
     ]
    },
    {
     "name": "stdout",
     "output_type": "stream",
     "text": [
      "{'train_runtime': 618.9322, 'train_samples_per_second': 20.332, 'train_steps_per_second': 2.546, 'train_loss': 0.09512558564316803, 'epoch': 4.0}\n"
     ]
    },
    {
     "name": "stderr",
     "output_type": "stream",
     "text": [
      "\n"
     ]
    },
    {
     "data": {
      "application/vnd.jupyter.widget-view+json": {
       "model_id": "fa64fc4bc3424e19812b4f2afe6927f2",
       "version_major": 2,
       "version_minor": 0
      },
      "text/plain": [
       "  0%|          | 0/787 [00:00<?, ?it/s]"
      ]
     },
     "metadata": {},
     "output_type": "display_data"
    },
    {
     "name": "stderr",
     "output_type": "stream",
     "text": [
      "You seem to be using the pipelines sequentially on GPU. In order to maximize efficiency please use a dataset\n"
     ]
    },
    {
     "name": "stdout",
     "output_type": "stream",
     "text": [
      "                                                text  labels\n",
      "1  The utility of Conversation Analysis versus Ro...     0.0\n",
      "2  Leveraging the pharmacy executive beyond the p...     0.0\n",
      "4  Implementing an Antimicrobial Stewardship Prog...     0.0\n",
      "5  Exploration of pharmacist comfort with harm re...     0.0\n",
      "6  Challenges for Polish Community Pharmacists in...     0.0\n",
      "                                                 text  labels\n",
      "3   The utilization of simulated patients for teac...     0.0\n",
      "14  Pharmacists and telemedicine: an innovative mo...     0.0\n",
      "19  The psychological health of patients diagnosed...     0.0\n",
      "21  Development and Implementation of Interprofess...     0.0\n",
      "24  Prescribing of Pressor Agents in Septic Shock:...     0.0\n"
     ]
    },
    {
     "name": "stderr",
     "output_type": "stream",
     "text": [
      "Stringifying the column: 100%|██████████| 4/4 [00:00<00:00, 999.24ba/s]\n",
      "Casting to class labels: 100%|██████████| 4/4 [00:00<00:00, 1331.74ba/s]\n",
      "Casting the dataset: 100%|██████████| 1/1 [00:00<00:00, 111.02ba/s]\n",
      "100%|██████████| 4/4 [00:00<00:00,  4.98ba/s]\n",
      "loading configuration file https://huggingface.co/dmis-lab/biobert-base-cased-v1.2/resolve/main/config.json from cache at C:\\Users\\maxim/.cache\\huggingface\\transformers\\ece5e89bab3b63a40e413c7f599e6081663cad06eb394e48d5023930733d15a3.ad895c9bc4687ffedea1a4cc498ac3f67ebd2083732981c2a06f548cde7d6582\n",
      "Model config BertConfig {\n",
      "  \"architectures\": [\n",
      "    \"BertForMaskedLM\"\n",
      "  ],\n",
      "  \"attention_probs_dropout_prob\": 0.1,\n",
      "  \"classifier_dropout\": null,\n",
      "  \"hidden_act\": \"gelu\",\n",
      "  \"hidden_dropout_prob\": 0.1,\n",
      "  \"hidden_size\": 768,\n",
      "  \"initializer_range\": 0.02,\n",
      "  \"intermediate_size\": 3072,\n",
      "  \"layer_norm_eps\": 1e-12,\n",
      "  \"max_position_embeddings\": 512,\n",
      "  \"model_type\": \"bert\",\n",
      "  \"num_attention_heads\": 12,\n",
      "  \"num_hidden_layers\": 12,\n",
      "  \"pad_token_id\": 0,\n",
      "  \"position_embedding_type\": \"absolute\",\n",
      "  \"transformers_version\": \"4.12.5\",\n",
      "  \"type_vocab_size\": 2,\n",
      "  \"use_cache\": true,\n",
      "  \"vocab_size\": 28996\n",
      "}\n",
      "\n",
      "loading weights file https://huggingface.co/dmis-lab/biobert-base-cased-v1.2/resolve/main/pytorch_model.bin from cache at C:\\Users\\maxim/.cache\\huggingface\\transformers\\1414d44e1692194ad8c160a4bc51d9bd98da5365a8c08e5182731cf84eb134f5.02df0b4a307fbaed7d1fe54d7b95b850ac1f31e1331142c3da71b82b0d48f77d\n",
      "Some weights of the model checkpoint at dmis-lab/biobert-base-cased-v1.2 were not used when initializing BertForSequenceClassification: ['cls.predictions.transform.LayerNorm.weight', 'cls.predictions.transform.dense.weight', 'cls.predictions.transform.LayerNorm.bias', 'cls.predictions.decoder.bias', 'cls.seq_relationship.bias', 'cls.predictions.bias', 'cls.predictions.decoder.weight', 'cls.predictions.transform.dense.bias', 'cls.seq_relationship.weight']\n",
      "- This IS expected if you are initializing BertForSequenceClassification from the checkpoint of a model trained on another task or with another architecture (e.g. initializing a BertForSequenceClassification model from a BertForPreTraining model).\n",
      "- This IS NOT expected if you are initializing BertForSequenceClassification from the checkpoint of a model that you expect to be exactly identical (initializing a BertForSequenceClassification model from a BertForSequenceClassification model).\n",
      "Some weights of BertForSequenceClassification were not initialized from the model checkpoint at dmis-lab/biobert-base-cased-v1.2 and are newly initialized: ['classifier.bias', 'classifier.weight']\n",
      "You should probably TRAIN this model on a down-stream task to be able to use it for predictions and inference.\n",
      "PyTorch: setting up devices\n",
      "The default value for the training argument `--report_to` will change in v5 (from all installed integrations to none). In v5, you will need to use `--report_to all` to get the same behavior as now. You should start updating your code and make this info disappear :-).\n",
      "The following columns in the training set  don't have a corresponding argument in `BertForSequenceClassification.forward` and have been ignored: __index_level_0__, text.\n",
      "***** Running training *****\n",
      "  Num examples = 3146\n",
      "  Num Epochs = 4\n",
      "  Instantaneous batch size per device = 8\n",
      "  Total train batch size (w. parallel, distributed & accumulation) = 8\n",
      "  Gradient Accumulation steps = 1\n",
      "  Total optimization steps = 1576\n",
      "100%|██████████| 1576/1576 [10:11<00:00,  3.20it/s]\n",
      "\n",
      "Training completed. Do not forget to share your model on huggingface.co/models =)\n",
      "\n",
      "\n",
      "100%|██████████| 1576/1576 [10:11<00:00,  2.58it/s]"
     ]
    },
    {
     "name": "stdout",
     "output_type": "stream",
     "text": [
      "{'train_runtime': 611.9298, 'train_samples_per_second': 20.564, 'train_steps_per_second': 2.575, 'train_loss': 0.10067905871396138, 'epoch': 4.0}\n"
     ]
    },
    {
     "name": "stderr",
     "output_type": "stream",
     "text": [
      "\n"
     ]
    },
    {
     "data": {
      "application/vnd.jupyter.widget-view+json": {
       "model_id": "f4f0e6270f954108828674eee7ff7f4b",
       "version_major": 2,
       "version_minor": 0
      },
      "text/plain": [
       "  0%|          | 0/787 [00:00<?, ?it/s]"
      ]
     },
     "metadata": {},
     "output_type": "display_data"
    },
    {
     "name": "stderr",
     "output_type": "stream",
     "text": [
      "You seem to be using the pipelines sequentially on GPU. In order to maximize efficiency please use a dataset\n"
     ]
    },
    {
     "name": "stdout",
     "output_type": "stream",
     "text": [
      "                                                text  labels\n",
      "1  The utility of Conversation Analysis versus Ro...     0.0\n",
      "2  Leveraging the pharmacy executive beyond the p...     0.0\n",
      "3  The utilization of simulated patients for teac...     0.0\n",
      "5  Exploration of pharmacist comfort with harm re...     0.0\n",
      "7  Pharmacists' Perceptions of Handling Antimicro...     0.0\n",
      "                                                 text  labels\n",
      "4   Implementing an Antimicrobial Stewardship Prog...     0.0\n",
      "6   Challenges for Polish Community Pharmacists in...     0.0\n",
      "10  Pharmacists' perceived role in supporting diab...     0.0\n",
      "11  A multifaceted approach in leveraging electron...     0.0\n",
      "16  Economic impact and health care utilization ou...     0.0\n"
     ]
    },
    {
     "name": "stderr",
     "output_type": "stream",
     "text": [
      "Stringifying the column: 100%|██████████| 4/4 [00:00<00:00, 1332.05ba/s]\n",
      "Casting to class labels: 100%|██████████| 4/4 [00:00<00:00, 1331.84ba/s]\n",
      "Casting the dataset: 100%|██████████| 1/1 [00:00<00:00, 124.88ba/s]\n",
      "100%|██████████| 4/4 [00:00<00:00,  6.09ba/s]\n",
      "loading configuration file https://huggingface.co/dmis-lab/biobert-base-cased-v1.2/resolve/main/config.json from cache at C:\\Users\\maxim/.cache\\huggingface\\transformers\\ece5e89bab3b63a40e413c7f599e6081663cad06eb394e48d5023930733d15a3.ad895c9bc4687ffedea1a4cc498ac3f67ebd2083732981c2a06f548cde7d6582\n",
      "Model config BertConfig {\n",
      "  \"architectures\": [\n",
      "    \"BertForMaskedLM\"\n",
      "  ],\n",
      "  \"attention_probs_dropout_prob\": 0.1,\n",
      "  \"classifier_dropout\": null,\n",
      "  \"hidden_act\": \"gelu\",\n",
      "  \"hidden_dropout_prob\": 0.1,\n",
      "  \"hidden_size\": 768,\n",
      "  \"initializer_range\": 0.02,\n",
      "  \"intermediate_size\": 3072,\n",
      "  \"layer_norm_eps\": 1e-12,\n",
      "  \"max_position_embeddings\": 512,\n",
      "  \"model_type\": \"bert\",\n",
      "  \"num_attention_heads\": 12,\n",
      "  \"num_hidden_layers\": 12,\n",
      "  \"pad_token_id\": 0,\n",
      "  \"position_embedding_type\": \"absolute\",\n",
      "  \"transformers_version\": \"4.12.5\",\n",
      "  \"type_vocab_size\": 2,\n",
      "  \"use_cache\": true,\n",
      "  \"vocab_size\": 28996\n",
      "}\n",
      "\n",
      "loading weights file https://huggingface.co/dmis-lab/biobert-base-cased-v1.2/resolve/main/pytorch_model.bin from cache at C:\\Users\\maxim/.cache\\huggingface\\transformers\\1414d44e1692194ad8c160a4bc51d9bd98da5365a8c08e5182731cf84eb134f5.02df0b4a307fbaed7d1fe54d7b95b850ac1f31e1331142c3da71b82b0d48f77d\n",
      "Some weights of the model checkpoint at dmis-lab/biobert-base-cased-v1.2 were not used when initializing BertForSequenceClassification: ['cls.predictions.transform.LayerNorm.weight', 'cls.predictions.transform.dense.weight', 'cls.predictions.transform.LayerNorm.bias', 'cls.predictions.decoder.bias', 'cls.seq_relationship.bias', 'cls.predictions.bias', 'cls.predictions.decoder.weight', 'cls.predictions.transform.dense.bias', 'cls.seq_relationship.weight']\n",
      "- This IS expected if you are initializing BertForSequenceClassification from the checkpoint of a model trained on another task or with another architecture (e.g. initializing a BertForSequenceClassification model from a BertForPreTraining model).\n",
      "- This IS NOT expected if you are initializing BertForSequenceClassification from the checkpoint of a model that you expect to be exactly identical (initializing a BertForSequenceClassification model from a BertForSequenceClassification model).\n",
      "Some weights of BertForSequenceClassification were not initialized from the model checkpoint at dmis-lab/biobert-base-cased-v1.2 and are newly initialized: ['classifier.bias', 'classifier.weight']\n",
      "You should probably TRAIN this model on a down-stream task to be able to use it for predictions and inference.\n",
      "PyTorch: setting up devices\n",
      "The default value for the training argument `--report_to` will change in v5 (from all installed integrations to none). In v5, you will need to use `--report_to all` to get the same behavior as now. You should start updating your code and make this info disappear :-).\n",
      "The following columns in the training set  don't have a corresponding argument in `BertForSequenceClassification.forward` and have been ignored: __index_level_0__, text.\n",
      "***** Running training *****\n",
      "  Num examples = 3147\n",
      "  Num Epochs = 4\n",
      "  Instantaneous batch size per device = 8\n",
      "  Total train batch size (w. parallel, distributed & accumulation) = 8\n",
      "  Gradient Accumulation steps = 1\n",
      "  Total optimization steps = 1576\n",
      "100%|██████████| 1576/1576 [10:18<00:00,  3.00it/s]\n",
      "\n",
      "Training completed. Do not forget to share your model on huggingface.co/models =)\n",
      "\n",
      "\n",
      "100%|██████████| 1576/1576 [10:18<00:00,  2.55it/s]"
     ]
    },
    {
     "name": "stdout",
     "output_type": "stream",
     "text": [
      "{'train_runtime': 618.4718, 'train_samples_per_second': 20.353, 'train_steps_per_second': 2.548, 'train_loss': 0.09861903505276907, 'epoch': 4.0}\n"
     ]
    },
    {
     "name": "stderr",
     "output_type": "stream",
     "text": [
      "\n"
     ]
    },
    {
     "data": {
      "application/vnd.jupyter.widget-view+json": {
       "model_id": "9de4aa54930541d39f3b5d889508f001",
       "version_major": 2,
       "version_minor": 0
      },
      "text/plain": [
       "  0%|          | 0/786 [00:00<?, ?it/s]"
      ]
     },
     "metadata": {},
     "output_type": "display_data"
    },
    {
     "name": "stderr",
     "output_type": "stream",
     "text": [
      "You seem to be using the pipelines sequentially on GPU. In order to maximize efficiency please use a dataset\n"
     ]
    },
    {
     "name": "stdout",
     "output_type": "stream",
     "text": [
      "                                                text  labels\n",
      "1  The utility of Conversation Analysis versus Ro...     0.0\n",
      "3  The utilization of simulated patients for teac...     0.0\n",
      "4  Implementing an Antimicrobial Stewardship Prog...     0.0\n",
      "6  Challenges for Polish Community Pharmacists in...     0.0\n",
      "7  Pharmacists' Perceptions of Handling Antimicro...     0.0\n",
      "                                                 text  labels\n",
      "2   Leveraging the pharmacy executive beyond the p...     0.0\n",
      "5   Exploration of pharmacist comfort with harm re...     0.0\n",
      "12  Decision coaching for people making healthcare...     0.0\n",
      "17  Cyclodextrin applications in pharmacy, biology...     0.0\n",
      "20  Qualitative Investigation of Community Pharmac...     0.0\n"
     ]
    },
    {
     "name": "stderr",
     "output_type": "stream",
     "text": [
      "Stringifying the column: 100%|██████████| 4/4 [00:00<00:00, 1332.48ba/s]\n",
      "Casting to class labels: 100%|██████████| 4/4 [00:00<00:00, 999.12ba/s]\n",
      "Casting the dataset: 100%|██████████| 1/1 [00:00<00:00, 142.74ba/s]\n",
      "100%|██████████| 4/4 [00:00<00:00,  6.20ba/s]\n",
      "loading configuration file https://huggingface.co/dmis-lab/biobert-base-cased-v1.2/resolve/main/config.json from cache at C:\\Users\\maxim/.cache\\huggingface\\transformers\\ece5e89bab3b63a40e413c7f599e6081663cad06eb394e48d5023930733d15a3.ad895c9bc4687ffedea1a4cc498ac3f67ebd2083732981c2a06f548cde7d6582\n",
      "Model config BertConfig {\n",
      "  \"architectures\": [\n",
      "    \"BertForMaskedLM\"\n",
      "  ],\n",
      "  \"attention_probs_dropout_prob\": 0.1,\n",
      "  \"classifier_dropout\": null,\n",
      "  \"hidden_act\": \"gelu\",\n",
      "  \"hidden_dropout_prob\": 0.1,\n",
      "  \"hidden_size\": 768,\n",
      "  \"initializer_range\": 0.02,\n",
      "  \"intermediate_size\": 3072,\n",
      "  \"layer_norm_eps\": 1e-12,\n",
      "  \"max_position_embeddings\": 512,\n",
      "  \"model_type\": \"bert\",\n",
      "  \"num_attention_heads\": 12,\n",
      "  \"num_hidden_layers\": 12,\n",
      "  \"pad_token_id\": 0,\n",
      "  \"position_embedding_type\": \"absolute\",\n",
      "  \"transformers_version\": \"4.12.5\",\n",
      "  \"type_vocab_size\": 2,\n",
      "  \"use_cache\": true,\n",
      "  \"vocab_size\": 28996\n",
      "}\n",
      "\n",
      "loading weights file https://huggingface.co/dmis-lab/biobert-base-cased-v1.2/resolve/main/pytorch_model.bin from cache at C:\\Users\\maxim/.cache\\huggingface\\transformers\\1414d44e1692194ad8c160a4bc51d9bd98da5365a8c08e5182731cf84eb134f5.02df0b4a307fbaed7d1fe54d7b95b850ac1f31e1331142c3da71b82b0d48f77d\n",
      "Some weights of the model checkpoint at dmis-lab/biobert-base-cased-v1.2 were not used when initializing BertForSequenceClassification: ['cls.predictions.transform.LayerNorm.weight', 'cls.predictions.transform.dense.weight', 'cls.predictions.transform.LayerNorm.bias', 'cls.predictions.decoder.bias', 'cls.seq_relationship.bias', 'cls.predictions.bias', 'cls.predictions.decoder.weight', 'cls.predictions.transform.dense.bias', 'cls.seq_relationship.weight']\n",
      "- This IS expected if you are initializing BertForSequenceClassification from the checkpoint of a model trained on another task or with another architecture (e.g. initializing a BertForSequenceClassification model from a BertForPreTraining model).\n",
      "- This IS NOT expected if you are initializing BertForSequenceClassification from the checkpoint of a model that you expect to be exactly identical (initializing a BertForSequenceClassification model from a BertForSequenceClassification model).\n",
      "Some weights of BertForSequenceClassification were not initialized from the model checkpoint at dmis-lab/biobert-base-cased-v1.2 and are newly initialized: ['classifier.bias', 'classifier.weight']\n",
      "You should probably TRAIN this model on a down-stream task to be able to use it for predictions and inference.\n",
      "PyTorch: setting up devices\n",
      "The default value for the training argument `--report_to` will change in v5 (from all installed integrations to none). In v5, you will need to use `--report_to all` to get the same behavior as now. You should start updating your code and make this info disappear :-).\n",
      "The following columns in the training set  don't have a corresponding argument in `BertForSequenceClassification.forward` and have been ignored: __index_level_0__, text.\n",
      "***** Running training *****\n",
      "  Num examples = 3147\n",
      "  Num Epochs = 4\n",
      "  Instantaneous batch size per device = 8\n",
      "  Total train batch size (w. parallel, distributed & accumulation) = 8\n",
      "  Gradient Accumulation steps = 1\n",
      "  Total optimization steps = 1576\n",
      "100%|██████████| 1576/1576 [10:24<00:00,  2.98it/s]\n",
      "\n",
      "Training completed. Do not forget to share your model on huggingface.co/models =)\n",
      "\n",
      "\n",
      "100%|██████████| 1576/1576 [10:24<00:00,  2.53it/s]"
     ]
    },
    {
     "name": "stdout",
     "output_type": "stream",
     "text": [
      "{'train_runtime': 624.2919, 'train_samples_per_second': 20.164, 'train_steps_per_second': 2.524, 'train_loss': 0.093303438370603, 'epoch': 4.0}\n"
     ]
    },
    {
     "name": "stderr",
     "output_type": "stream",
     "text": [
      "\n"
     ]
    },
    {
     "data": {
      "application/vnd.jupyter.widget-view+json": {
       "model_id": "3718b84ab2ba440c8e8a54085d1cf7ac",
       "version_major": 2,
       "version_minor": 0
      },
      "text/plain": [
       "  0%|          | 0/786 [00:00<?, ?it/s]"
      ]
     },
     "metadata": {},
     "output_type": "display_data"
    },
    {
     "name": "stderr",
     "output_type": "stream",
     "text": [
      "You seem to be using the pipelines sequentially on GPU. In order to maximize efficiency please use a dataset\n"
     ]
    },
    {
     "data": {
      "image/png": "[encoded data removed]",
      "text/plain": [
       "<Figure size 432x288 with 1 Axes>"
      ]
     },
     "metadata": {
      "needs_background": "light"
     },
     "output_type": "display_data"
    },
    {
     "data": {
      "image/png": "[encoded data removed]",
      "text/plain": [
       "<Figure size 432x288 with 1 Axes>"
      ]
     },
     "metadata": {
      "needs_background": "light"
     },
     "output_type": "display_data"
    },
    {
     "data": {
      "image/png": "[encoded data removed]",
      "text/plain": [
       "<Figure size 432x288 with 1 Axes>"
      ]
     },
     "metadata": {
      "needs_background": "light"
     },
     "output_type": "display_data"
    },
    {
     "data": {
      "image/png": "[encoded data removed]",
      "text/plain": [
       "<Figure size 432x288 with 1 Axes>"
      ]
     },
     "metadata": {
      "needs_background": "light"
     },
     "output_type": "display_data"
    },
    {
     "data": {
      "image/png": "[encoded data removed]",
      "text/plain": [
       "<Figure size 432x288 with 1 Axes>"
      ]
     },
     "metadata": {
      "needs_background": "light"
     },
     "output_type": "display_data"
    }
   ],
   "source": [
    "kf = KFold(n_splits=5, shuffle=True)\n",
    "thresholds = []\n",
    "\n",
    "for train_idx, val_idx in kf.split(all_df):\n",
    "    train = all_df.iloc[train_idx]\n",
    "    print(train.head())\n",
    "    val = all_df.iloc[val_idx]\n",
    "    print(val.head())\n",
    "    ds = Dataset.from_pandas(train)\n",
    "    ds.cleanup_cache_files()\n",
    "    ds = ds.class_encode_column('labels')\n",
    "\n",
    "    tokenized_ds = ds.map(tokenizer_function, batched=True)\n",
    "\n",
    "    model = AutoModelForSequenceClassification.from_pretrained('dmis-lab/biobert-base-cased-v1.2', num_labels=2)\n",
    "    training_args = TrainingArguments(filepath + '/.temp', save_strategy='no', evaluation_strategy='no', logging_strategy='no', overwrite_output_dir=True, learning_rate=1e-5, num_train_epochs=4)\n",
    "    trainer = Trainer(model=model, args=training_args, compute_metrics=compute_single_label_metrics, train_dataset=tokenized_ds)\n",
    "    trainer.train()\n",
    "\n",
    "    pipe = TextClassificationPipeline(model=model, tokenizer=tokenizer, return_all_scores=True, device=0)\n",
    "    scores = []\n",
    "    for i in trange(len(val)):\n",
    "        scores.append(pipe(val.iloc[i]['text'], **tokenizer_kwargs)[0][1]['score'])\n",
    "\n",
    "    PrecisionRecallDisplay.from_predictions(val['labels'], scores)\n",
    "\n",
    "    pr,re,th = precision_recall_curve(val['labels'], scores)\n",
    "    rth_df = pd.DataFrame.from_dict({'precision':pr[:-1],'recall':re[:-1],'threshold':th})\n",
    "\n",
    "    ceiling_recall = 0.99\n",
    "    thresholds.append(rth_df[rth_df.recall >= ceiling_recall].iloc[-1]['threshold'])"
   ]
  },
  {
   "cell_type": "code",
   "execution_count": 45,
   "metadata": {},
   "outputs": [
    {
     "data": {
      "text/html": [
       "<div>\n",
       "<style scoped>\n",
       "    .dataframe tbody tr th:only-of-type {\n",
       "        vertical-align: middle;\n",
       "    }\n",
       "\n",
       "    .dataframe tbody tr th {\n",
       "        vertical-align: top;\n",
       "    }\n",
       "\n",
       "    .dataframe thead th {\n",
       "        text-align: right;\n",
       "    }\n",
       "</style>\n",
       "<table border=\"1\" class=\"dataframe\">\n",
       "  <thead>\n",
       "    <tr style=\"text-align: right;\">\n",
       "      <th></th>\n",
       "      <th>0</th>\n",
       "    </tr>\n",
       "  </thead>\n",
       "  <tbody>\n",
       "    <tr>\n",
       "      <th>0</th>\n",
       "      <td>0.000171</td>\n",
       "    </tr>\n",
       "    <tr>\n",
       "      <th>1</th>\n",
       "      <td>0.000664</td>\n",
       "    </tr>\n",
       "    <tr>\n",
       "      <th>2</th>\n",
       "      <td>0.000361</td>\n",
       "    </tr>\n",
       "    <tr>\n",
       "      <th>3</th>\n",
       "      <td>0.000224</td>\n",
       "    </tr>\n",
       "    <tr>\n",
       "      <th>4</th>\n",
       "      <td>0.000292</td>\n",
       "    </tr>\n",
       "  </tbody>\n",
       "</table>\n",
       "</div>"
      ],
      "text/plain": [
       "          0\n",
       "0  0.000171\n",
       "1  0.000664\n",
       "2  0.000361\n",
       "3  0.000224\n",
       "4  0.000292"
      ]
     },
     "execution_count": 45,
     "metadata": {},
     "output_type": "execute_result"
    }
   ],
   "source": [
    "thr_df = pd.DataFrame(thresholds)\n",
    "thr_df"
   ]
  },
  {
   "cell_type": "code",
   "execution_count": 44,
   "metadata": {},
   "outputs": [
    {
     "name": "stdout",
     "output_type": "stream",
     "text": [
      "Mean threshold: 0.00034214244806207716\n",
      "Number of abstracts excluded from review based on recall threshold: 405 out of 786 for ratio of 0.515\n",
      "Adjusted threshold precision: 0.134, recall: 0.981, f1: 0.236, accuracy: 0.579\n",
      "Number of incorrectly excluded abstracts: 1\n"
     ]
    }
   ],
   "source": [
    "threshold = thr_df.mean()[0]\n",
    "print('Mean threshold: {:.20f}'.format(threshold))\n",
    "recall_test = []\n",
    "preds = []\n",
    "incorrect = []\n",
    "for i, label, score in zip(range(len(val['labels'])), val['labels'], scores):\n",
    "    if score >= threshold:\n",
    "        recall_test.append({'index':i, 'label':label, 'score':score})\n",
    "        preds.append(1)\n",
    "    else:\n",
    "        if label == 1:\n",
    "            incorrect.append(i)\n",
    "        preds.append(0)\n",
    "print('Number of abstracts excluded from review based on recall threshold: {} out of {} for ratio of {:.3f}'.format(len(val) - len(recall_test), len(val), (len(val) - len(recall_test)) / len(val)))\n",
    "print('Adjusted threshold precision: {:.3f}, recall: {:.3f}, f1: {:.3f}, accuracy: {:.3f}'.format(precision_score(val['labels'], preds), recall_score(val['labels'], preds), f1_score(val['labels'], preds), accuracy_score(val['labels'], preds)))\n",
    "print('Number of incorrectly excluded abstracts: {}'.format(len(incorrect)))\n"
   ]
  },
  {
   "cell_type": "markdown",
   "metadata": {},
   "source": [
    "# Train a production model"
   ]
  },
  {
   "cell_type": "code",
   "execution_count": 12,
   "metadata": {},
   "outputs": [
    {
     "name": "stderr",
     "output_type": "stream",
     "text": [
      "Stringifying the column: 100%|██████████| 4/4 [00:00<00:00, 998.76ba/s]\n",
      "Casting to class labels: 100%|██████████| 4/4 [00:00<00:00, 999.00ba/s]\n",
      "Casting the dataset: 100%|██████████| 1/1 [00:00<00:00, 111.03ba/s]\n",
      "100%|██████████| 4/4 [00:00<00:00,  4.87ba/s]\n"
     ]
    }
   ],
   "source": [
    "all_df = df[df_columns_to_keep]\n",
    "all_ds = Dataset.from_pandas(all_df)\n",
    "all_ds.cleanup_cache_files()\n",
    "all_ds = all_ds.class_encode_column('labels')\n",
    "tokenizer = AutoTokenizer.from_pretrained('dmis-lab/biobert-base-cased-v1.2')\n",
    "\n",
    "def tokenizer_function(samples):\n",
    "    return tokenizer(samples['text'], padding=\"max_length\", truncation=True, max_length=512)\n",
    "\n",
    "tokenized_all_ds = all_ds.map(tokenizer_function, batched=True)"
   ]
  },
  {
   "cell_type": "code",
   "execution_count": 13,
   "metadata": {},
   "outputs": [
    {
     "name": "stderr",
     "output_type": "stream",
     "text": [
      "Some weights of the model checkpoint at dmis-lab/biobert-base-cased-v1.2 were not used when initializing BertForSequenceClassification: ['cls.predictions.transform.LayerNorm.weight', 'cls.predictions.transform.dense.weight', 'cls.predictions.transform.dense.bias', 'cls.predictions.bias', 'cls.predictions.transform.LayerNorm.bias', 'cls.predictions.decoder.bias', 'cls.seq_relationship.bias', 'cls.predictions.decoder.weight', 'cls.seq_relationship.weight']\n",
      "- This IS expected if you are initializing BertForSequenceClassification from the checkpoint of a model trained on another task or with another architecture (e.g. initializing a BertForSequenceClassification model from a BertForPreTraining model).\n",
      "- This IS NOT expected if you are initializing BertForSequenceClassification from the checkpoint of a model that you expect to be exactly identical (initializing a BertForSequenceClassification model from a BertForSequenceClassification model).\n",
      "Some weights of BertForSequenceClassification were not initialized from the model checkpoint at dmis-lab/biobert-base-cased-v1.2 and are newly initialized: ['classifier.weight', 'classifier.bias']\n",
      "You should probably TRAIN this model on a down-stream task to be able to use it for predictions and inference.\n",
      "The following columns in the training set  don't have a corresponding argument in `BertForSequenceClassification.forward` and have been ignored: text.\n",
      "***** Running training *****\n",
      "  Num examples = 3933\n",
      "  Num Epochs = 4\n",
      "  Instantaneous batch size per device = 8\n",
      "  Total train batch size (w. parallel, distributed & accumulation) = 8\n",
      "  Gradient Accumulation steps = 1\n",
      "  Total optimization steps = 1968\n",
      " 25%|██▌       | 500/1968 [03:17<09:24,  2.60it/s]Saving model checkpoint to ./models/production_models/inclusion_biobert/v1\\checkpoint-500\n",
      "Configuration saved in ./models/production_models/inclusion_biobert/v1\\checkpoint-500\\config.json\n",
      "Model weights saved in ./models/production_models/inclusion_biobert/v1\\checkpoint-500\\pytorch_model.bin\n",
      " 51%|█████     | 1000/1968 [06:32<06:11,  2.60it/s]Saving model checkpoint to ./models/production_models/inclusion_biobert/v1\\checkpoint-1000\n",
      "Configuration saved in ./models/production_models/inclusion_biobert/v1\\checkpoint-1000\\config.json\n",
      "Model weights saved in ./models/production_models/inclusion_biobert/v1\\checkpoint-1000\\pytorch_model.bin\n",
      " 76%|███████▌  | 1500/1968 [09:49<02:59,  2.61it/s]Saving model checkpoint to ./models/production_models/inclusion_biobert/v1\\checkpoint-1500\n",
      "Configuration saved in ./models/production_models/inclusion_biobert/v1\\checkpoint-1500\\config.json\n",
      "Model weights saved in ./models/production_models/inclusion_biobert/v1\\checkpoint-1500\\pytorch_model.bin\n",
      "100%|██████████| 1968/1968 [12:52<00:00,  2.85it/s]\n",
      "\n",
      "Training completed. Do not forget to share your model on huggingface.co/models =)\n",
      "\n",
      "\n",
      "100%|██████████| 1968/1968 [12:53<00:00,  2.55it/s]\n",
      "Saving model checkpoint to ./models/production_models/inclusion_biobert/v1\n",
      "Configuration saved in ./models/production_models/inclusion_biobert/v1\\config.json\n"
     ]
    },
    {
     "name": "stdout",
     "output_type": "stream",
     "text": [
      "{'train_runtime': 772.9723, 'train_samples_per_second': 20.353, 'train_steps_per_second': 2.546, 'train_loss': 0.0873315004798455, 'epoch': 4.0}\n"
     ]
    },
    {
     "name": "stderr",
     "output_type": "stream",
     "text": [
      "Model weights saved in ./models/production_models/inclusion_biobert/v1\\pytorch_model.bin\n"
     ]
    }
   ],
   "source": [
    "model_version = '1'\n",
    "model = AutoModelForSequenceClassification.from_pretrained('dmis-lab/biobert-base-cased-v1.2', num_labels=2)\n",
    "training_args = TrainingArguments(filepath + '/models/production_models/inclusion_biobert/v{}'.format(model_version), evaluation_strategy='no', logging_strategy='no', learning_rate=1e-5, num_train_epochs=4)\n",
    "trainer = Trainer(model=model, args=training_args, compute_metrics=compute_single_label_metrics, train_dataset=tokenized_all_ds)\n",
    "trainer.train()\n",
    "trainer.save_model(filepath + '/models/production_models/inclusion_biobert/v{}'.format(model_version))"
   ]
  }
 ],
 "metadata": {
  "kernelspec": {
   "display_name": "Python 3.9.7 ('impact')",
   "language": "python",
   "name": "python3"
  },
  "language_info": {
   "codemirror_mode": {
    "name": "ipython",
    "version": 3
   },
   "file_extension": ".py",
   "mimetype": "text/x-python",
   "name": "python",
   "nbconvert_exporter": "python",
   "pygments_lexer": "ipython3",
   "version": "3.9.7"
  },
  "orig_nbformat": 4,
  "vscode": {
   "interpreter": {
    "hash": "b865e41611128619125efb3de810fd1945d838f9916dd1a16e8a8b77ba5194d7"
   }
  }
 },
 "nbformat": 4,
 "nbformat_minor": 2
}
